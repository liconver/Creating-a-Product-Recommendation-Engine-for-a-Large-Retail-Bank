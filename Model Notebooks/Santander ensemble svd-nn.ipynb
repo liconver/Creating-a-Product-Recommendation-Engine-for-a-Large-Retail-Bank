{
 "cells": [
  {
   "cell_type": "code",
   "execution_count": 1,
   "metadata": {},
   "outputs": [],
   "source": [
    "import pandas as pd\n",
    "import numpy as np"
   ]
  },
  {
   "cell_type": "code",
   "execution_count": 2,
   "metadata": {},
   "outputs": [
    {
     "name": "stderr",
     "output_type": "stream",
     "text": [
      "C:\\Users\\liamc\\Anaconda3\\lib\\site-packages\\IPython\\core\\interactiveshell.py:2728: DtypeWarning: Columns (5,8,11,15) have mixed types. Specify dtype option on import or set low_memory=False.\n",
      "  interactivity=interactivity, compiler=compiler, result=result)\n",
      "C:\\Users\\liamc\\Anaconda3\\lib\\site-packages\\IPython\\core\\interactiveshell.py:2728: DtypeWarning: Columns (15) have mixed types. Specify dtype option on import or set low_memory=False.\n",
      "  interactivity=interactivity, compiler=compiler, result=result)\n"
     ]
    }
   ],
   "source": [
    "train = pd.read_csv(r'E:\\Santander Recommendation\\train_ver2.csv')\n",
    "test = pd.read_csv(r'E:\\Santander Recommendation\\test_ver2.csv')"
   ]
  },
  {
   "cell_type": "code",
   "execution_count": 3,
   "metadata": {},
   "outputs": [],
   "source": [
    "train.fecha_dato = pd.to_datetime(train.fecha_dato, format=\"%Y-%m-%d\")\n",
    "train.fecha_alta = pd.to_datetime(train.fecha_alta, format=\"%Y-%m-%d\")\n",
    "test.fecha_dato = pd.to_datetime(test.fecha_dato, format=\"%Y-%m-%d\")\n",
    "test.fecha_alta = pd.to_datetime(test.fecha_alta, format=\"%Y-%m-%d\")"
   ]
  },
  {
   "cell_type": "code",
   "execution_count": 4,
   "metadata": {},
   "outputs": [],
   "source": [
    "months = train.fecha_dato.unique()"
   ]
  },
  {
   "cell_type": "code",
   "execution_count": 5,
   "metadata": {},
   "outputs": [],
   "source": [
    "train_wnewproducts = pd.DataFrame()"
   ]
  },
  {
   "cell_type": "code",
   "execution_count": 6,
   "metadata": {},
   "outputs": [
    {
     "name": "stderr",
     "output_type": "stream",
     "text": [
      "C:\\Users\\liamc\\Anaconda3\\lib\\site-packages\\ipykernel_launcher.py:22: SettingWithCopyWarning: \n",
      "A value is trying to be set on a copy of a slice from a DataFrame.\n",
      "Try using .loc[row_indexer,col_indexer] = value instead\n",
      "\n",
      "See the caveats in the documentation: http://pandas.pydata.org/pandas-docs/stable/indexing.html#indexing-view-versus-copy\n",
      "C:\\Users\\liamc\\Anaconda3\\lib\\site-packages\\ipykernel_launcher.py:27: SettingWithCopyWarning: \n",
      "A value is trying to be set on a copy of a slice from a DataFrame.\n",
      "Try using .loc[row_indexer,col_indexer] = value instead\n",
      "\n",
      "See the caveats in the documentation: http://pandas.pydata.org/pandas-docs/stable/indexing.html#indexing-view-versus-copy\n",
      "C:\\Users\\liamc\\Anaconda3\\lib\\site-packages\\pandas\\core\\generic.py:3643: SettingWithCopyWarning: \n",
      "A value is trying to be set on a copy of a slice from a DataFrame.\n",
      "Try using .loc[row_indexer,col_indexer] = value instead\n",
      "\n",
      "See the caveats in the documentation: http://pandas.pydata.org/pandas-docs/stable/indexing.html#indexing-view-versus-copy\n",
      "  self[name] = value\n"
     ]
    },
    {
     "name": "stdout",
     "output_type": "stream",
     "text": [
      "progress =  0.058823529411764705\n",
      "progress =  0.11764705882352941\n",
      "progress =  0.17647058823529413\n",
      "progress =  0.23529411764705882\n",
      "progress =  0.29411764705882354\n",
      "progress =  0.35294117647058826\n",
      "progress =  0.4117647058823529\n",
      "progress =  0.47058823529411764\n",
      "progress =  0.5294117647058824\n",
      "progress =  0.5882352941176471\n",
      "progress =  0.6470588235294118\n",
      "progress =  0.7058823529411765\n",
      "progress =  0.7647058823529411\n",
      "progress =  0.8235294117647058\n",
      "progress =  0.8823529411764706\n",
      "progress =  0.9411764705882353\n"
     ]
    }
   ],
   "source": [
    "i = 1\n",
    "while i < len(months):\n",
    "    #select sequential months\n",
    "    new_month = train[train.fecha_dato == months[i]]\n",
    "    prev_month = train[train.fecha_dato == months[i-1]]\n",
    "    #select only customers present in both month\n",
    "    new_month = new_month.loc[new_month['ncodpers'].isin(prev_month.ncodpers)]\n",
    "    prev_month = prev_month.loc[prev_month['ncodpers'].isin(new_month.ncodpers)]\n",
    "    #sort by customer id so both months will be ordered the same\n",
    "    new_month.sort_values(by = 'ncodpers', inplace = True)\n",
    "    prev_month.sort_values(by = 'ncodpers', inplace = True)\n",
    "    #pick out product columns\n",
    "    product_cols = ['ind_ahor_fin_ult1','ind_aval_fin_ult1','ind_cco_fin_ult1','ind_cder_fin_ult1',\n",
    "                'ind_cno_fin_ult1','ind_ctju_fin_ult1','ind_ctma_fin_ult1','ind_ctop_fin_ult1',\n",
    "                'ind_ctpp_fin_ult1','ind_deco_fin_ult1','ind_dela_fin_ult1','ind_deme_fin_ult1',\n",
    "                'ind_ecue_fin_ult1','ind_fond_fin_ult1','ind_hip_fin_ult1','ind_nom_pens_ult1',\n",
    "                'ind_nomina_ult1','ind_plan_fin_ult1','ind_pres_fin_ult1','ind_reca_fin_ult1',\n",
    "                'ind_recibo_ult1','ind_tjcr_fin_ult1','ind_valo_fin_ult1','ind_viv_fin_ult1']\n",
    "    #new dataframe with just product\n",
    "    new_month_products = new_month[product_cols]\n",
    "    #add in the corresponding customer ids\n",
    "    new_month_products['ncodpers'] = new_month.ncodpers\n",
    "    #get rid of index\n",
    "    new_month_products.reset_index(drop=True,inplace=True)\n",
    "    #now repeat for the previous month but make ids zero so a subtraction works \n",
    "    prev_month_products = prev_month[product_cols]\n",
    "    prev_month_products['ncodpers'] = prev_month.ncodpers\n",
    "    prev_month_products.ncodpers = 0\n",
    "    prev_month_products.reset_index(drop=True,inplace=True)\n",
    "    #subtract to find the new products\n",
    "    new_products = new_month_products.subtract(prev_month_products)\n",
    "    #remove products that the customer dropped fill NA's\n",
    "    new_products[new_products < 0] = 0\n",
    "    new_products = new_products.fillna(0)\n",
    "    #merge the new products features with the month data\n",
    "    new_products = new_products.merge(new_month.iloc[:,0:24], on='ncodpers')\n",
    "    #add the interated months into training dataframe\n",
    "    train_wnewproducts = pd.concat([train_wnewproducts,new_products], axis = 0)\n",
    "    print(\"progress = \", float(i/len(months)))\n",
    "    i += 1"
   ]
  },
  {
   "cell_type": "code",
   "execution_count": 7,
   "metadata": {},
   "outputs": [],
   "source": [
    "train_wnewproducts = train_wnewproducts.loc[(train_wnewproducts.iloc[:,0:24] != 0).any(axis=1)]"
   ]
  },
  {
   "cell_type": "code",
   "execution_count": 8,
   "metadata": {},
   "outputs": [],
   "source": [
    "final_month = train[train.fecha_dato == '2016-05-28']"
   ]
  },
  {
   "cell_type": "code",
   "execution_count": 9,
   "metadata": {},
   "outputs": [],
   "source": [
    "df = pd.concat([train_wnewproducts,test], axis = 0, ignore_index = True)\n",
    "train = []"
   ]
  },
  {
   "cell_type": "code",
   "execution_count": 10,
   "metadata": {},
   "outputs": [],
   "source": [
    "dirtyrows = df[df.ind_empleado.isnull()].index\n",
    "\n",
    "df = df.drop(dirtyrows, axis = 0)\n",
    "\n",
    "df.canal_entrada = df.canal_entrada.fillna(\"Unknown\")\n",
    "\n",
    "df = df.drop(\"cod_prov\", 1)\n",
    "\n",
    "df.conyuemp = df.conyuemp.fillna(\"Unknown\")\n",
    "\n",
    "df.loc[df.indrel_1mes == '1', 'indrel_1mes'] = 'Primary'\n",
    "df.loc[df.indrel_1mes == '1.0', 'indrel_1mes'] = 'Primary'\n",
    "df.loc[df.indrel_1mes == 1, 'indrel_1mes'] = 'Primary'\n",
    "df.loc[df.indrel_1mes == 1.0, 'indrel_1mes'] = 'Primary'\n",
    "\n",
    "df.loc[df.indrel_1mes == '2', 'indrel_1mes'] = 'Co-owner'\n",
    "df.loc[df.indrel_1mes == '2.0', 'indrel_1mes'] = 'Co-owner'\n",
    "df.loc[df.indrel_1mes == 2, 'indrel_1mes'] = 'Co-owner'\n",
    "df.loc[df.indrel_1mes == 2.0, 'indrel_1mes'] = 'Co-owner'\n",
    "\n",
    "df.loc[df.indrel_1mes == '3', 'indrel_1mes'] = 'Former Primary'\n",
    "df.loc[df.indrel_1mes == '3.0', 'indrel_1mes'] = 'Former Primary'\n",
    "df.loc[df.indrel_1mes == 3, 'indrel_1mes'] = 'Former Primary'\n",
    "df.loc[df.indrel_1mes == 3.0, 'indrel_1mes'] = 'Former Primary'\n",
    "\n",
    "df.loc[df.indrel_1mes == '4', 'indrel_1mes'] = 'Former Co-owner'\n",
    "df.loc[df.indrel_1mes == '4.0', 'indrel_1mes'] = 'Former Co-owner'\n",
    "df.loc[df.indrel_1mes == 4, 'indrel_1mes'] = 'Former Co-owner'\n",
    "df.loc[df.indrel_1mes == 4.0, 'indrel_1mes'] = 'Former Co-owner'\n",
    "\n",
    "df.indrel_1mes  = df.indrel_1mes.fillna('Primary')\n",
    "\n",
    "df.nomprov = df.nomprov.fillna(\"MADRID\")\n",
    "\n",
    "df.loc[df.renta == '         NA',\"renta\"] = 0\n",
    "df.renta = df.renta.astype(float)\n",
    "df.loc[df.renta == 0, 'renta'] = df[df.renta > 0].groupby('nomprov').renta.transform('median')\n",
    "df.loc[df.renta.isnull(), \"renta\"] = df.groupby('nomprov').renta.transform('median')\n",
    "\n",
    "df.segmento = df[df.renta <= 98000].segmento.fillna(\"03 - UNIVERSITARIO\")\n",
    "df.segmento = df[df.renta <= 125500].segmento.fillna(\"02 - PARTICULARES\")\n",
    "df.segmento = df.segmento.fillna(\"01 - TOP\")\n",
    "\n",
    "df.sexo = df.sexo.fillna(\"V\")\n",
    "\n",
    "df.tiprel_1mes = df.tiprel_1mes.fillna('I')\n",
    "\n",
    "df.ind_nomina_ult1 = df.ind_nomina_ult1.fillna(0.0)\n",
    "df.ind_nom_pens_ult1 = df.ind_nom_pens_ult1.fillna(0.0)"
   ]
  },
  {
   "cell_type": "code",
   "execution_count": 11,
   "metadata": {},
   "outputs": [],
   "source": [
    "df.loc[df.antiguedad == -999999, 'antiguedad'] = df[df.antiguedad.astype(float) >= 0].antiguedad.median()"
   ]
  },
  {
   "cell_type": "code",
   "execution_count": 12,
   "metadata": {},
   "outputs": [],
   "source": [
    "df['ageGroup'] = (df.age.astype(float) // 10) - 1\n",
    "\n",
    "df['isSpanish'] = df.pais_residencia.map(lambda x: 1 if x == \"ES\" else 0)\n",
    "\n",
    "df['majorCity'] = df.nomprov.map(lambda x: 1 if x == \"MADRID\" or x == \"BARCELONA\" else 0)\n",
    "\n",
    "df['fecha_alta_year'] = pd.DatetimeIndex(df.fecha_alta).year - 1995\n",
    "df['fecha_dato_year'] = pd.DatetimeIndex(df.fecha_dato).year - 2015\n",
    "df['fecha_alta_month'] = pd.DatetimeIndex(df.fecha_alta).month - 1\n",
    "df['fecha_dato_month'] = pd.DatetimeIndex(df.fecha_dato).month - 1\n",
    "\n",
    "df.antiguedad = df.antiguedad.astype(int)\n",
    "df['antiguedad_years'] = df.antiguedad // 12\n",
    "\n",
    "df.loc[df.indrel == 99.0, \"indrel\"] = 0.0"
   ]
  },
  {
   "cell_type": "code",
   "execution_count": 13,
   "metadata": {},
   "outputs": [],
   "source": [
    "df.ult_fec_cli_1t.fillna(0)\n",
    "df['HAS_ult_fec_cli_1t'] = df.ult_fec_cli_1t.map(lambda x: 1 if type(x)==str else 0)\n",
    "\n",
    "df = df.drop('ult_fec_cli_1t', 1)\n",
    "\n",
    "df['rentaGroup'] = df.renta.astype(float) // 50000\n",
    "df.loc[df.renta >= 1000000, \"rentaGroup\"] = 20\n",
    "df.loc[df.renta >= 10000000, \"rentaGroup\"] = 21"
   ]
  },
  {
   "cell_type": "code",
   "execution_count": 14,
   "metadata": {},
   "outputs": [],
   "source": [
    "l = len(train_wnewproducts)- len(dirtyrows)"
   ]
  },
  {
   "cell_type": "code",
   "execution_count": 15,
   "metadata": {},
   "outputs": [],
   "source": [
    "train_final, test = df[:l], df[l:]\n",
    "train_final_training_cols = train_final\n",
    "train_final_training_cols = train_final_training_cols.drop(product_cols, axis=1)\n",
    "test = test.drop(product_cols, axis=1)"
   ]
  },
  {
   "cell_type": "code",
   "execution_count": 16,
   "metadata": {},
   "outputs": [
    {
     "name": "stdout",
     "output_type": "stream",
     "text": [
      "446022\n",
      "929615\n"
     ]
    }
   ],
   "source": [
    "print(len(train_final))\n",
    "print(len(test))"
   ]
  },
  {
   "cell_type": "code",
   "execution_count": 17,
   "metadata": {},
   "outputs": [
    {
     "data": {
      "text/plain": [
       "441020"
      ]
     },
     "execution_count": 17,
     "metadata": {},
     "output_type": "execute_result"
    }
   ],
   "source": [
    "train_final.ncodpers.isin(test.ncodpers).sum()"
   ]
  },
  {
   "cell_type": "code",
   "execution_count": 18,
   "metadata": {},
   "outputs": [],
   "source": [
    "df = pd.concat([train_final_training_cols, test], axis = 0)"
   ]
  },
  {
   "cell_type": "code",
   "execution_count": 19,
   "metadata": {},
   "outputs": [],
   "source": [
    "df.pais_residencia = df.pais_residencia.astype('category').cat.codes\n",
    "df.canal_entrada = df.canal_entrada.astype('category').cat.codes\n",
    "df.nomprov = df.nomprov.astype('category').cat.codes\n",
    "final_month.nomprov = final_month.indrel_1mes.astype('category').cat.codes\n",
    "df = pd.get_dummies(df, columns = ['ind_empleado','sexo','tiprel_1mes','indresi',\n",
    "                                   'indext','conyuemp','indfall','segmento','indrel_1mes'])\n",
    "\n",
    "df = df.drop(['fecha_dato', 'fecha_alta'], axis = 1)"
   ]
  },
  {
   "cell_type": "code",
   "execution_count": 20,
   "metadata": {},
   "outputs": [],
   "source": [
    "train_final_training_cols, test = df[:l], df[l:]\n",
    "df=[]"
   ]
  },
  {
   "cell_type": "code",
   "execution_count": 21,
   "metadata": {},
   "outputs": [
    {
     "name": "stderr",
     "output_type": "stream",
     "text": [
      "C:\\Users\\liamc\\Anaconda3\\lib\\site-packages\\ipykernel_launcher.py:2: SettingWithCopyWarning: \n",
      "A value is trying to be set on a copy of a slice from a DataFrame.\n",
      "Try using .loc[row_indexer,col_indexer] = value instead\n",
      "\n",
      "See the caveats in the documentation: http://pandas.pydata.org/pandas-docs/stable/indexing.html#indexing-view-versus-copy\n",
      "  \n"
     ]
    }
   ],
   "source": [
    "labels = train_final[product_cols]\n",
    "labels['ncodpers'] = train_final.ncodpers\n",
    "labels = labels.set_index(\"ncodpers\")\n",
    "stacked_labels = labels.stack()\n",
    "filtered_labels = stacked_labels.reset_index()\n",
    "filtered_labels.columns = [\"ncodpers\", \"product\", \"newly_added\"]\n",
    "filtered_labels = filtered_labels[filtered_labels[\"newly_added\"] == 1]\n",
    "multiclass_train = filtered_labels.merge(train_final_training_cols, on=\"ncodpers\", how=\"left\")\n",
    "train_final = multiclass_train.drop_duplicates(multiclass_train, keep='last')\n",
    "labels_final = train_final['product']\n",
    "train_final_ncodpers = train_final.ncodpers"
   ]
  },
  {
   "cell_type": "code",
   "execution_count": 22,
   "metadata": {},
   "outputs": [
    {
     "name": "stderr",
     "output_type": "stream",
     "text": [
      "C:\\Users\\liamc\\Anaconda3\\lib\\site-packages\\IPython\\core\\interactiveshell.py:2728: DtypeWarning: Columns (5,8,11,15) have mixed types. Specify dtype option on import or set low_memory=False.\n",
      "  interactivity=interactivity, compiler=compiler, result=result)\n",
      "C:\\Users\\liamc\\Anaconda3\\lib\\site-packages\\ipykernel_launcher.py:6: SettingWithCopyWarning: \n",
      "A value is trying to be set on a copy of a slice from a DataFrame.\n",
      "Try using .loc[row_indexer,col_indexer] = value instead\n",
      "\n",
      "See the caveats in the documentation: http://pandas.pydata.org/pandas-docs/stable/indexing.html#indexing-view-versus-copy\n",
      "  \n"
     ]
    }
   ],
   "source": [
    "#insert some collaborative filtering features part 1\n",
    "train = pd.read_csv(r'E:\\Santander Recommendation\\train_ver2.csv')\n",
    "lastmonth = train.loc[train['fecha_dato']=='2016-05-28']\n",
    "train=[]\n",
    "lastmonthlabels = lastmonth[product_cols]\n",
    "lastmonthlabels['ncodpers'] = lastmonth.ncodpers #check if another last month\n",
    "lastmonthlabels = lastmonthlabels.set_index('ncodpers')\n",
    "stacked_lastmonthlabels = lastmonthlabels.stack()\n",
    "filtered_lastmonthlabels = stacked_lastmonthlabels.reset_index()\n",
    "filtered_lastmonthlabels.columns = [\"ncodpers\", \"product\", \"is_owned\"]\n",
    "lastmonthlabels=[]"
   ]
  },
  {
   "cell_type": "code",
   "execution_count": 23,
   "metadata": {},
   "outputs": [
    {
     "name": "stdout",
     "output_type": "stream",
     "text": [
      "RMSE: 0.1922\n",
      "0.1922489400531062\n"
     ]
    }
   ],
   "source": [
    "#CF part 2\n",
    "from surprise import SVD\n",
    "from surprise import Dataset\n",
    "from surprise import Reader\n",
    "from surprise.model_selection import cross_validate\n",
    "from surprise import accuracy\n",
    "from surprise.model_selection import train_test_split\n",
    "reader = Reader(line_format='user item rating', rating_scale=(0,1))\n",
    "data = Dataset.load_from_df(filtered_lastmonthlabels, reader=reader)\n",
    "trainset, testset = train_test_split(data, test_size=.05)\n",
    "algo = SVD(n_factors=50)\n",
    "algo.fit(trainset)\n",
    "predictions = algo.test(testset)\n",
    "print(accuracy.rmse(predictions))\n",
    "latentfeatures = pd.DataFrame(algo.pu)\n",
    "latentfeatures['ncodpers'] = lastmonth.ncodpers.values"
   ]
  },
  {
   "cell_type": "code",
   "execution_count": 24,
   "metadata": {},
   "outputs": [],
   "source": [
    "#CF part 3: add the features\n",
    "test = pd.merge(test, latentfeatures,how='inner',on='ncodpers')"
   ]
  },
  {
   "cell_type": "code",
   "execution_count": 25,
   "metadata": {},
   "outputs": [],
   "source": [
    "train_final = pd.merge(train_final, latentfeatures, how='inner', on='ncodpers')"
   ]
  },
  {
   "cell_type": "code",
   "execution_count": 26,
   "metadata": {},
   "outputs": [],
   "source": [
    "labels_final = train_final['product']\n",
    "train_final_ncodpers = train_final.ncodpers\n",
    "train_final = train_final.drop(['ncodpers','newly_added','product'], axis = 1)"
   ]
  },
  {
   "cell_type": "code",
   "execution_count": 27,
   "metadata": {},
   "outputs": [],
   "source": [
    "final_month = pd.merge(final_month,latentfeatures)"
   ]
  },
  {
   "cell_type": "code",
   "execution_count": 28,
   "metadata": {},
   "outputs": [],
   "source": [
    "#need to go through and describe each step\n",
    "dirtyrows = final_month[final_month.ind_empleado.isnull()].index\n",
    "final_month = final_month.drop(dirtyrows, axis = 0)\n",
    "final_month.canal_entrada = final_month.canal_entrada.fillna(\"Unknown\")\n",
    "final_month = final_month.drop(\"cod_prov\", 1)\n",
    "final_month.conyuemp = final_month.conyuemp.fillna(\"Unknown\")\n",
    "final_month.loc[final_month.indrel_1mes == '1', 'indrel_1mes'] = 'Primary'\n",
    "final_month.loc[final_month.indrel_1mes == '1.0', 'indrel_1mes'] = 'Primary'\n",
    "final_month.loc[final_month.indrel_1mes == 1, 'indrel_1mes'] = 'Primary'\n",
    "final_month.loc[final_month.indrel_1mes == 1.0, 'indrel_1mes'] = 'Primary'\n",
    "final_month.loc[final_month.indrel_1mes == '2', 'indrel_1mes'] = 'Co-owner'\n",
    "final_month.loc[final_month.indrel_1mes == '2.0', 'indrel_1mes'] = 'Co-owner'\n",
    "final_month.loc[final_month.indrel_1mes == 2, 'indrel_1mes'] = 'Co-owner'\n",
    "final_month.loc[final_month.indrel_1mes == 2.0, 'indrel_1mes'] = 'Co-owner'\n",
    "final_month.loc[final_month.indrel_1mes == '3', 'indrel_1mes'] = 'Former Primary'\n",
    "final_month.loc[final_month.indrel_1mes == '3.0', 'indrel_1mes'] = 'Former Primary'\n",
    "final_month.loc[final_month.indrel_1mes == 3, 'indrel_1mes'] = 'Former Primary'\n",
    "final_month.loc[final_month.indrel_1mes == 3.0, 'indrel_1mes'] = 'Former Primary'\n",
    "final_month.loc[final_month.indrel_1mes == '4', 'indrel_1mes'] = 'Former Co-owner'\n",
    "final_month.loc[final_month.indrel_1mes == '4.0', 'indrel_1mes'] = 'Former Co-owner'\n",
    "final_month.loc[final_month.indrel_1mes == 4, 'indrel_1mes'] = 'Former Co-owner'\n",
    "final_month.loc[final_month.indrel_1mes == 4.0, 'indrel_1mes'] = 'Former Co-owner'\n",
    "final_month.indrel_1mes = final_month.indrel_1mes.fillna('Primary')\n",
    "final_month.nomprov = final_month.nomprov.fillna(\"MADRID\")\n",
    "final_month.renta = final_month.renta.astype(float)\n",
    "final_month.loc[final_month.renta.isnull(), \"renta\"] = final_month.groupby('nomprov').renta.transform('median')\n",
    "final_month.segmento = final_month[final_month.renta <= 98000].segmento.fillna(\"03 - UNIVERSITARIO\")\n",
    "final_month.segmento = final_month[final_month.renta <= 125500].segmento.fillna(\"02 - PARTICULARES\")\n",
    "final_month.segmento = final_month.segmento.fillna(\"01 - TOP\")\n",
    "final_month.sexo = final_month.sexo.fillna(\"V\")\n",
    "final_month.tiprel_1mes = final_month.tiprel_1mes.fillna('I')\n",
    "final_month.ind_nomina_ult1 = final_month.ind_nomina_ult1.fillna(0.0)\n",
    "final_month.ind_nom_pens_ult1 = final_month.ind_nom_pens_ult1.fillna(0.0)\n",
    "final_month.loc[final_month.antiguedad == -999999, 'antiguedad'] = final_month[final_month.antiguedad >= 0].antiguedad.median()\n",
    "final_month.age = final_month.age.astype(int)\n",
    "final_month.loc[final_month.age < 20,\"age\"] = 19\n",
    "final_month.loc[final_month.age > 90,\"age\"] = 91\n",
    "final_month['ageGroup'] = (final_month.age // 10) - 1\n",
    "final_month['isSpanish'] = final_month.pais_residencia.map(lambda x: 1 if x == \"ES\" else 0)\n",
    "final_month['majorCity'] = final_month.nomprov.map(lambda x: 1 if x == \"MADRID\" or x == \"BARCELONA\" else 0)\n",
    "final_month['fecha_alta_year'] = pd.DatetimeIndex(final_month.fecha_alta).year - 1995\n",
    "final_month['fecha_dato_year'] = pd.DatetimeIndex(final_month.fecha_dato).year - 2015\n",
    "final_month['fecha_alta_month'] = pd.DatetimeIndex(final_month.fecha_alta).month - 1\n",
    "final_month['fecha_dato_month'] = pd.DatetimeIndex(final_month.fecha_dato).month - 1\n",
    "final_month.antiguedad = final_month.antiguedad.astype(int)\n",
    "final_month['antiguedad_years'] = final_month.antiguedad // 12\n",
    "final_month.loc[final_month.indrel == 99.0, \"indrel\"] = 0.0\n",
    "final_month.ult_fec_cli_1t.fillna(0)\n",
    "final_month['HAS_ult_fec_cli_1t'] = final_month.ult_fec_cli_1t.map(lambda x: 1 if type(x) == str else 0)\n",
    "final_month = final_month.drop('ult_fec_cli_1t', 1)\n",
    "final_month['rentaGroup'] = final_month.renta.astype(float) // 50000\n",
    "final_month.loc[final_month.renta >= 1000000, \"rentaGroup\"] = 20\n",
    "final_month.loc[final_month.renta >= 10000000, \"rentaGroup\"] = 21\n",
    "final_month_training_cols = final_month\n",
    "final_month_training_cols = final_month_training_cols.drop(product_cols, axis=1)\n",
    "final_month.pais_residencia = final_month.pais_residencia.astype('category').cat.codes\n",
    "final_month.canal_entrada = final_month.canal_entrada.astype('category').cat.codes\n",
    "final_month.nomprov = final_month.nomprov.astype('category').cat.codes\n",
    "final_month.nomprov = final_month.indrel_1mes.astype('category').cat.codes\n",
    "final_month = pd.get_dummies(final_month, columns = ['ind_empleado','sexo','tiprel_1mes','indresi',\n",
    "                                   'indext','conyuemp','indfall','segmento','indrel_1mes'])\n",
    "final_month = final_month.drop(['fecha_dato', 'fecha_alta'], axis = 1)"
   ]
  },
  {
   "cell_type": "code",
   "execution_count": 29,
   "metadata": {},
   "outputs": [
    {
     "name": "stderr",
     "output_type": "stream",
     "text": [
      "C:\\Users\\liamc\\Anaconda3\\lib\\site-packages\\ipykernel_launcher.py:2: SettingWithCopyWarning: \n",
      "A value is trying to be set on a copy of a slice from a DataFrame.\n",
      "Try using .loc[row_indexer,col_indexer] = value instead\n",
      "\n",
      "See the caveats in the documentation: http://pandas.pydata.org/pandas-docs/stable/indexing.html#indexing-view-versus-copy\n",
      "  \n"
     ]
    }
   ],
   "source": [
    "labels_final_month = final_month[product_cols]\n",
    "labels_final_month['ncodpers'] = final_month.ncodpers\n",
    "labels_final_month = labels_final_month.set_index(\"ncodpers\")\n",
    "stacked_labels_final_month = labels_final_month.stack()\n",
    "filtered_labels_final_month = stacked_labels_final_month.reset_index()\n",
    "filtered_labels_final_month.columns = [\"ncodpers\", \"product\", \"newly_added\"]\n",
    "filtered_labels_final_month = filtered_labels_final_month[filtered_labels_final_month[\"newly_added\"] == 1]\n",
    "multiclass_final_month = filtered_labels_final_month.merge(final_month_training_cols, on=\"ncodpers\", how=\"left\")\n",
    "final_month = multiclass_final_month.drop_duplicates(multiclass_final_month, keep='last')\n",
    "labels_final_month_final = final_month['product']\n",
    "final_month_ncodpers = final_month.ncodpers\n",
    "final_month = final_month.drop(['ncodpers','newly_added','product'], axis = 1)"
   ]
  },
  {
   "cell_type": "code",
   "execution_count": 30,
   "metadata": {
    "scrolled": true
   },
   "outputs": [
    {
     "name": "stdout",
     "output_type": "stream",
     "text": [
      "1013148\n",
      "1013148\n",
      "1240538\n",
      "1240538\n"
     ]
    }
   ],
   "source": [
    "print(len(train_final))\n",
    "print(len(labels_final))\n",
    "print(len(final_month))\n",
    "print(len(labels_final_month_final))"
   ]
  },
  {
   "cell_type": "code",
   "execution_count": 31,
   "metadata": {},
   "outputs": [
    {
     "data": {
      "text/plain": [
       "ind_recibo_ult1      223500\n",
       "ind_nom_pens_ult1    151815\n",
       "ind_nomina_ult1      135539\n",
       "ind_cco_fin_ult1     121625\n",
       "ind_tjcr_fin_ult1    115884\n",
       "ind_cno_fin_ult1      93696\n",
       "ind_ecue_fin_ult1     58871\n",
       "ind_dela_fin_ult1     26004\n",
       "ind_reca_fin_ult1     24385\n",
       "ind_ctma_fin_ult1     15534\n",
       "ind_valo_fin_ult1     12290\n",
       "ind_ctop_fin_ult1      8839\n",
       "ind_fond_fin_ult1      8748\n",
       "ind_ctpp_fin_ult1      6438\n",
       "ind_deco_fin_ult1      5935\n",
       "ind_plan_fin_ult1      1791\n",
       "ind_deme_fin_ult1       600\n",
       "ind_ctju_fin_ult1       505\n",
       "ind_pres_fin_ult1       406\n",
       "ind_cder_fin_ult1       344\n",
       "ind_hip_fin_ult1        199\n",
       "ind_viv_fin_ult1        191\n",
       "ind_aval_fin_ult1         6\n",
       "ind_ahor_fin_ult1         3\n",
       "Name: product, dtype: int64"
      ]
     },
     "execution_count": 31,
     "metadata": {},
     "output_type": "execute_result"
    }
   ],
   "source": [
    "labels_final.value_counts()"
   ]
  },
  {
   "cell_type": "code",
   "execution_count": 32,
   "metadata": {},
   "outputs": [],
   "source": [
    "labels_final = labels_final.astype('category').cat.codes"
   ]
  },
  {
   "cell_type": "code",
   "execution_count": 33,
   "metadata": {},
   "outputs": [],
   "source": [
    "test = test.drop('ncodpers', axis = 1)"
   ]
  },
  {
   "cell_type": "code",
   "execution_count": 34,
   "metadata": {},
   "outputs": [],
   "source": [
    "train_wnewproducts = []\n",
    "data = []\n",
    "trainset = []\n",
    "testset = []\n",
    "algo = []\n",
    "predictions = []\n",
    "latentfeatures = []"
   ]
  },
  {
   "cell_type": "code",
   "execution_count": 35,
   "metadata": {},
   "outputs": [
    {
     "name": "stderr",
     "output_type": "stream",
     "text": [
      "C:\\Users\\liamc\\Anaconda3\\lib\\site-packages\\h5py\\__init__.py:36: FutureWarning: Conversion of the second argument of issubdtype from `float` to `np.floating` is deprecated. In future, it will be treated as `np.float64 == np.dtype(float).type`.\n",
      "  from ._conv import register_converters as _register_converters\n",
      "Using TensorFlow backend.\n"
     ]
    }
   ],
   "source": [
    "import keras\n",
    "from keras.layers import Dense, Dropout\n",
    "from keras.models import Sequential\n",
    "from keras.utils import to_categorical\n",
    "from keras.callbacks import EarlyStopping\n",
    "from sklearn.preprocessing import normalize\n",
    "from sklearn.model_selection import train_test_split"
   ]
  },
  {
   "cell_type": "code",
   "execution_count": 36,
   "metadata": {},
   "outputs": [],
   "source": [
    "y = to_categorical(labels_final)"
   ]
  },
  {
   "cell_type": "code",
   "execution_count": 37,
   "metadata": {},
   "outputs": [],
   "source": [
    "X_train, X_test, y_train, y_test = train_test_split(train_final, y, test_size=0.05, random_state=21)"
   ]
  },
  {
   "cell_type": "code",
   "execution_count": 38,
   "metadata": {},
   "outputs": [],
   "source": [
    "X_train = normalize(X_train)\n",
    "X_test = normalize(X_test)"
   ]
  },
  {
   "cell_type": "code",
   "execution_count": 39,
   "metadata": {},
   "outputs": [
    {
     "data": {
      "text/plain": [
       "(962490, 95)"
      ]
     },
     "execution_count": 39,
     "metadata": {},
     "output_type": "execute_result"
    }
   ],
   "source": [
    "X_train.shape"
   ]
  },
  {
   "cell_type": "code",
   "execution_count": 40,
   "metadata": {},
   "outputs": [],
   "source": [
    "model = Sequential()"
   ]
  },
  {
   "cell_type": "code",
   "execution_count": 41,
   "metadata": {},
   "outputs": [],
   "source": [
    "model.add(Dense(512,activation='relu',input_shape=(95,)))"
   ]
  },
  {
   "cell_type": "code",
   "execution_count": 42,
   "metadata": {},
   "outputs": [],
   "source": [
    "model.add(Dropout(0.2))"
   ]
  },
  {
   "cell_type": "code",
   "execution_count": 43,
   "metadata": {},
   "outputs": [],
   "source": [
    "model.add(Dense(512,activation='relu'))"
   ]
  },
  {
   "cell_type": "code",
   "execution_count": 44,
   "metadata": {},
   "outputs": [],
   "source": [
    "model.add(Dropout(0.2))"
   ]
  },
  {
   "cell_type": "code",
   "execution_count": 45,
   "metadata": {},
   "outputs": [],
   "source": [
    "model.add(Dense(24,activation='sigmoid'))"
   ]
  },
  {
   "cell_type": "code",
   "execution_count": 46,
   "metadata": {},
   "outputs": [],
   "source": [
    "model.compile(optimizer='rmsprop',loss='categorical_crossentropy',metrics=['accuracy'])"
   ]
  },
  {
   "cell_type": "code",
   "execution_count": 47,
   "metadata": {},
   "outputs": [],
   "source": [
    "early_stopping_monitor = EarlyStopping(patience=1)"
   ]
  },
  {
   "cell_type": "code",
   "execution_count": 48,
   "metadata": {},
   "outputs": [
    {
     "name": "stdout",
     "output_type": "stream",
     "text": [
      "Train on 962490 samples, validate on 50658 samples\n",
      "Epoch 1/3\n",
      "962490/962490 [==============================] - 137s 143us/step - loss: 2.2284 - acc: 0.2205 - val_loss: 2.2059 - val_acc: 0.2217\n",
      "Epoch 2/3\n",
      "962490/962490 [==============================] - 137s 143us/step - loss: 2.2175 - acc: 0.2205 - val_loss: 2.2188 - val_acc: 0.2217\n"
     ]
    }
   ],
   "source": [
    "model_1_training = model.fit(X_train,y_train,validation_split=0.3,epochs=3, batch_size = 32,verbose =1,\n",
    "                              validation_data = (X_test, y_test), callbacks=[early_stopping_monitor])"
   ]
  },
  {
   "cell_type": "code",
   "execution_count": 49,
   "metadata": {},
   "outputs": [
    {
     "data": {
      "text/plain": [
       "array([7.33238714e-09, 7.45282946e-09, 1.33602798e-01, 6.74785724e-07,\n",
       "       9.96933579e-02, 8.05409036e-06, 9.85529926e-03, 2.14479566e-02,\n",
       "       1.43693155e-02, 2.06777221e-03, 4.47214432e-02, 2.65662620e-05,\n",
       "       6.94842860e-02, 1.50389206e-02, 1.96122336e-08, 2.07673579e-01,\n",
       "       1.69896305e-01, 1.27516652e-03, 3.01974910e-06, 3.28539349e-02,\n",
       "       2.79057503e-01, 2.31652156e-01, 2.15043854e-02, 1.97943137e-08],\n",
       "      dtype=float32)"
      ]
     },
     "execution_count": 49,
     "metadata": {},
     "output_type": "execute_result"
    }
   ],
   "source": [
    "ynew = model.predict(X_test)\n",
    "ynew[0]"
   ]
  },
  {
   "cell_type": "code",
   "execution_count": 50,
   "metadata": {},
   "outputs": [
    {
     "name": "stdout",
     "output_type": "stream",
     "text": [
      "50658/50658 [==============================] - 2s 31us/step\n"
     ]
    },
    {
     "data": {
      "text/plain": [
       "[2.218764359125793, 0.22166291602510957]"
      ]
     },
     "execution_count": 50,
     "metadata": {},
     "output_type": "execute_result"
    }
   ],
   "source": [
    "score = model.evaluate(X_test, y_test,batch_size=32)\n",
    "score"
   ]
  },
  {
   "cell_type": "code",
   "execution_count": 51,
   "metadata": {},
   "outputs": [],
   "source": [
    "labels_final_month_final_cat = labels_final_month_final.astype('category').cat.codes"
   ]
  },
  {
   "cell_type": "code",
   "execution_count": 52,
   "metadata": {},
   "outputs": [],
   "source": [
    "used_products = pd.DataFrame()\n",
    "used_products['product'] = labels_final_month_final_cat\n",
    "used_products['ncodpers'] = final_month_ncodpers\n",
    "used_products = used_products.drop_duplicates(keep = 'last')"
   ]
  },
  {
   "cell_type": "code",
   "execution_count": 53,
   "metadata": {},
   "outputs": [],
   "source": [
    "#create a dictionary to store each product a customer already has\n",
    "used_recommendation_products = {}\n",
    "product_cols = np.array(product_cols)\n",
    "#iterate through used_products and add each one to used_recommendation_products\n",
    "for idx,row_val in used_products.iterrows():\n",
    "    used_recommendation_products.setdefault(row_val['ncodpers'],[]).append(product_cols[row_val['product']])"
   ]
  },
  {
   "cell_type": "code",
   "execution_count": 54,
   "metadata": {},
   "outputs": [
    {
     "data": {
      "text/plain": [
       "['ind_cco_fin_ult1',\n",
       " 'ind_ctpp_fin_ult1',\n",
       " 'ind_tjcr_fin_ult1',\n",
       " 'ind_valo_fin_ult1']"
      ]
     },
     "execution_count": 54,
     "metadata": {},
     "output_type": "execute_result"
    }
   ],
   "source": [
    "used_recommendation_products[15889]"
   ]
  },
  {
   "cell_type": "code",
   "execution_count": 55,
   "metadata": {},
   "outputs": [],
   "source": [
    "modeltest = normalize(test)"
   ]
  },
  {
   "cell_type": "code",
   "execution_count": 57,
   "metadata": {},
   "outputs": [],
   "source": [
    "modelpreds = model.predict(modeltest)"
   ]
  },
  {
   "cell_type": "code",
   "execution_count": 58,
   "metadata": {},
   "outputs": [
    {
     "data": {
      "text/plain": [
       "array([[7.25129023e-09, 7.36397832e-09, 1.31709054e-01, ...,\n",
       "        2.38623694e-01, 2.14412939e-02, 1.93785699e-08],\n",
       "       [7.25129023e-09, 7.36397832e-09, 1.31709054e-01, ...,\n",
       "        2.38623694e-01, 2.14412939e-02, 1.93785699e-08],\n",
       "       [6.40430864e-09, 6.46799592e-09, 1.32643446e-01, ...,\n",
       "        1.06232956e-01, 1.12688998e-02, 1.32195996e-08],\n",
       "       ...,\n",
       "       [7.25129023e-09, 7.36397832e-09, 1.31709054e-01, ...,\n",
       "        2.38623694e-01, 2.14412939e-02, 1.93785699e-08],\n",
       "       [7.25129023e-09, 7.36397832e-09, 1.31709054e-01, ...,\n",
       "        2.38623694e-01, 2.14412939e-02, 1.93785699e-08],\n",
       "       [7.25129023e-09, 7.36397832e-09, 1.31709054e-01, ...,\n",
       "        2.38623694e-01, 2.14412939e-02, 1.93785699e-08]], dtype=float32)"
      ]
     },
     "execution_count": 58,
     "metadata": {},
     "output_type": "execute_result"
    }
   ],
   "source": [
    "modelpreds"
   ]
  },
  {
   "cell_type": "code",
   "execution_count": 59,
   "metadata": {},
   "outputs": [],
   "source": [
    "pred = np.argsort(modelpreds, axis=1)\n",
    "pred = np.fliplr(pred)"
   ]
  },
  {
   "cell_type": "code",
   "execution_count": 60,
   "metadata": {},
   "outputs": [
    {
     "data": {
      "text/plain": [
       "array([20, 21, 15, 16,  2,  4, 12, 10, 19,  7, 22, 13,  8,  6,  9, 17, 11,\n",
       "        5, 18,  3, 23, 14,  1,  0], dtype=int64)"
      ]
     },
     "execution_count": 60,
     "metadata": {},
     "output_type": "execute_result"
    }
   ],
   "source": [
    "pred[0]"
   ]
  },
  {
   "cell_type": "code",
   "execution_count": 61,
   "metadata": {},
   "outputs": [],
   "source": [
    "test_ids = np.array(pd.read_csv(r'E:\\Santander Recommendation\\test_ver2.csv',usecols=['ncodpers'])['ncodpers'])\n",
    "product_cols = np.array(product_cols)\n",
    "final_preds = []\n",
    "#iteratively create the final rank ordered recommendations for each user, exluding ones the customer already has\n",
    "for idx,predicted in enumerate(pred):\n",
    "    ids = test_ids[idx]\n",
    "    top_product = product_cols[predicted]\n",
    "    used_products = used_recommendation_products.get(ids,[])\n",
    "    new_top_product = []\n",
    "    for product in top_product:\n",
    "        if product not in used_products:\n",
    "            new_top_product.append(product)\n",
    "        if len(new_top_product) == 7:\n",
    "            break\n",
    "    final_preds.append(' '.join(new_top_product))"
   ]
  },
  {
   "cell_type": "code",
   "execution_count": 62,
   "metadata": {},
   "outputs": [],
   "source": [
    "submission = pd.DataFrame({'ncodpers':test_ids,'added_products':final_preds})\n",
    "submission.to_csv('submission.csv',index=False)"
   ]
  },
  {
   "cell_type": "code",
   "execution_count": 63,
   "metadata": {},
   "outputs": [
    {
     "data": {
      "text/plain": [
       "(929615, 2)"
      ]
     },
     "execution_count": 63,
     "metadata": {},
     "output_type": "execute_result"
    }
   ],
   "source": [
    "submission.shape"
   ]
  },
  {
   "cell_type": "code",
   "execution_count": 64,
   "metadata": {},
   "outputs": [
    {
     "data": {
      "text/html": [
       "<div>\n",
       "<style scoped>\n",
       "    .dataframe tbody tr th:only-of-type {\n",
       "        vertical-align: middle;\n",
       "    }\n",
       "\n",
       "    .dataframe tbody tr th {\n",
       "        vertical-align: top;\n",
       "    }\n",
       "\n",
       "    .dataframe thead th {\n",
       "        text-align: right;\n",
       "    }\n",
       "</style>\n",
       "<table border=\"1\" class=\"dataframe\">\n",
       "  <thead>\n",
       "    <tr style=\"text-align: right;\">\n",
       "      <th></th>\n",
       "      <th>added_products</th>\n",
       "      <th>ncodpers</th>\n",
       "    </tr>\n",
       "  </thead>\n",
       "  <tbody>\n",
       "    <tr>\n",
       "      <th>0</th>\n",
       "      <td>ind_recibo_ult1 ind_nom_pens_ult1 ind_nomina_u...</td>\n",
       "      <td>15889</td>\n",
       "    </tr>\n",
       "    <tr>\n",
       "      <th>1</th>\n",
       "      <td>ind_recibo_ult1 ind_tjcr_fin_ult1 ind_nom_pens...</td>\n",
       "      <td>1170544</td>\n",
       "    </tr>\n",
       "    <tr>\n",
       "      <th>2</th>\n",
       "      <td>ind_recibo_ult1 ind_nom_pens_ult1 ind_nomina_u...</td>\n",
       "      <td>1170545</td>\n",
       "    </tr>\n",
       "    <tr>\n",
       "      <th>3</th>\n",
       "      <td>ind_recibo_ult1 ind_nom_pens_ult1 ind_nomina_u...</td>\n",
       "      <td>1170547</td>\n",
       "    </tr>\n",
       "    <tr>\n",
       "      <th>4</th>\n",
       "      <td>ind_recibo_ult1 ind_nom_pens_ult1 ind_nomina_u...</td>\n",
       "      <td>1170548</td>\n",
       "    </tr>\n",
       "    <tr>\n",
       "      <th>5</th>\n",
       "      <td>ind_recibo_ult1 ind_nom_pens_ult1 ind_nomina_u...</td>\n",
       "      <td>1170550</td>\n",
       "    </tr>\n",
       "    <tr>\n",
       "      <th>6</th>\n",
       "      <td>ind_nom_pens_ult1 ind_tjcr_fin_ult1 ind_nomina...</td>\n",
       "      <td>1170552</td>\n",
       "    </tr>\n",
       "    <tr>\n",
       "      <th>7</th>\n",
       "      <td>ind_recibo_ult1 ind_nom_pens_ult1 ind_nomina_u...</td>\n",
       "      <td>1170553</td>\n",
       "    </tr>\n",
       "    <tr>\n",
       "      <th>8</th>\n",
       "      <td>ind_recibo_ult1 ind_nom_pens_ult1 ind_nomina_u...</td>\n",
       "      <td>1170555</td>\n",
       "    </tr>\n",
       "    <tr>\n",
       "      <th>9</th>\n",
       "      <td>ind_recibo_ult1 ind_nom_pens_ult1 ind_nomina_u...</td>\n",
       "      <td>1170557</td>\n",
       "    </tr>\n",
       "    <tr>\n",
       "      <th>10</th>\n",
       "      <td>ind_recibo_ult1 ind_cco_fin_ult1 ind_nom_pens_...</td>\n",
       "      <td>1170559</td>\n",
       "    </tr>\n",
       "    <tr>\n",
       "      <th>11</th>\n",
       "      <td>ind_recibo_ult1 ind_nom_pens_ult1 ind_nomina_u...</td>\n",
       "      <td>1170563</td>\n",
       "    </tr>\n",
       "    <tr>\n",
       "      <th>12</th>\n",
       "      <td>ind_recibo_ult1 ind_nom_pens_ult1 ind_nomina_u...</td>\n",
       "      <td>1170542</td>\n",
       "    </tr>\n",
       "    <tr>\n",
       "      <th>13</th>\n",
       "      <td>ind_recibo_ult1 ind_nom_pens_ult1 ind_nomina_u...</td>\n",
       "      <td>1170565</td>\n",
       "    </tr>\n",
       "    <tr>\n",
       "      <th>14</th>\n",
       "      <td>ind_recibo_ult1 ind_nom_pens_ult1 ind_nomina_u...</td>\n",
       "      <td>1170568</td>\n",
       "    </tr>\n",
       "    <tr>\n",
       "      <th>15</th>\n",
       "      <td>ind_recibo_ult1 ind_nom_pens_ult1 ind_nomina_u...</td>\n",
       "      <td>1170570</td>\n",
       "    </tr>\n",
       "    <tr>\n",
       "      <th>16</th>\n",
       "      <td>ind_recibo_ult1 ind_nom_pens_ult1 ind_nomina_u...</td>\n",
       "      <td>1170576</td>\n",
       "    </tr>\n",
       "    <tr>\n",
       "      <th>17</th>\n",
       "      <td>ind_recibo_ult1 ind_tjcr_fin_ult1 ind_nom_pens...</td>\n",
       "      <td>1170578</td>\n",
       "    </tr>\n",
       "    <tr>\n",
       "      <th>18</th>\n",
       "      <td>ind_nom_pens_ult1 ind_nomina_ult1 ind_tjcr_fin...</td>\n",
       "      <td>1170579</td>\n",
       "    </tr>\n",
       "    <tr>\n",
       "      <th>19</th>\n",
       "      <td>ind_recibo_ult1 ind_nom_pens_ult1 ind_nomina_u...</td>\n",
       "      <td>1170581</td>\n",
       "    </tr>\n",
       "    <tr>\n",
       "      <th>20</th>\n",
       "      <td>ind_recibo_ult1 ind_nom_pens_ult1 ind_nomina_u...</td>\n",
       "      <td>1170583</td>\n",
       "    </tr>\n",
       "    <tr>\n",
       "      <th>21</th>\n",
       "      <td>ind_recibo_ult1 ind_nom_pens_ult1 ind_nomina_u...</td>\n",
       "      <td>1170585</td>\n",
       "    </tr>\n",
       "    <tr>\n",
       "      <th>22</th>\n",
       "      <td>ind_recibo_ult1 ind_nom_pens_ult1 ind_nomina_u...</td>\n",
       "      <td>1170587</td>\n",
       "    </tr>\n",
       "    <tr>\n",
       "      <th>23</th>\n",
       "      <td>ind_nom_pens_ult1 ind_nomina_ult1 ind_cno_fin_...</td>\n",
       "      <td>1170588</td>\n",
       "    </tr>\n",
       "    <tr>\n",
       "      <th>24</th>\n",
       "      <td>ind_recibo_ult1 ind_nom_pens_ult1 ind_nomina_u...</td>\n",
       "      <td>1170589</td>\n",
       "    </tr>\n",
       "    <tr>\n",
       "      <th>25</th>\n",
       "      <td>ind_recibo_ult1 ind_nom_pens_ult1 ind_nomina_u...</td>\n",
       "      <td>1170567</td>\n",
       "    </tr>\n",
       "    <tr>\n",
       "      <th>26</th>\n",
       "      <td>ind_recibo_ult1 ind_tjcr_fin_ult1 ind_cco_fin_...</td>\n",
       "      <td>1170541</td>\n",
       "    </tr>\n",
       "    <tr>\n",
       "      <th>27</th>\n",
       "      <td>ind_recibo_ult1 ind_nom_pens_ult1 ind_tjcr_fin...</td>\n",
       "      <td>1170539</td>\n",
       "    </tr>\n",
       "    <tr>\n",
       "      <th>28</th>\n",
       "      <td>ind_recibo_ult1 ind_nom_pens_ult1 ind_nomina_u...</td>\n",
       "      <td>1170538</td>\n",
       "    </tr>\n",
       "    <tr>\n",
       "      <th>29</th>\n",
       "      <td>ind_recibo_ult1 ind_nom_pens_ult1 ind_cco_fin_...</td>\n",
       "      <td>1170493</td>\n",
       "    </tr>\n",
       "    <tr>\n",
       "      <th>...</th>\n",
       "      <td>...</td>\n",
       "      <td>...</td>\n",
       "    </tr>\n",
       "    <tr>\n",
       "      <th>929585</th>\n",
       "      <td>ind_recibo_ult1 ind_tjcr_fin_ult1 ind_nom_pens...</td>\n",
       "      <td>660255</td>\n",
       "    </tr>\n",
       "    <tr>\n",
       "      <th>929586</th>\n",
       "      <td>ind_recibo_ult1 ind_tjcr_fin_ult1 ind_nom_pens...</td>\n",
       "      <td>659581</td>\n",
       "    </tr>\n",
       "    <tr>\n",
       "      <th>929587</th>\n",
       "      <td>ind_recibo_ult1 ind_nom_pens_ult1 ind_nomina_u...</td>\n",
       "      <td>660253</td>\n",
       "    </tr>\n",
       "    <tr>\n",
       "      <th>929588</th>\n",
       "      <td>ind_nom_pens_ult1 ind_nomina_ult1 ind_cco_fin_...</td>\n",
       "      <td>660244</td>\n",
       "    </tr>\n",
       "    <tr>\n",
       "      <th>929589</th>\n",
       "      <td>ind_recibo_ult1 ind_tjcr_fin_ult1 ind_nom_pens...</td>\n",
       "      <td>660181</td>\n",
       "    </tr>\n",
       "    <tr>\n",
       "      <th>929590</th>\n",
       "      <td>ind_recibo_ult1 ind_tjcr_fin_ult1 ind_nom_pens...</td>\n",
       "      <td>660185</td>\n",
       "    </tr>\n",
       "    <tr>\n",
       "      <th>929591</th>\n",
       "      <td>ind_recibo_ult1 ind_tjcr_fin_ult1 ind_nom_pens...</td>\n",
       "      <td>660186</td>\n",
       "    </tr>\n",
       "    <tr>\n",
       "      <th>929592</th>\n",
       "      <td>ind_recibo_ult1 ind_tjcr_fin_ult1 ind_nom_pens...</td>\n",
       "      <td>660188</td>\n",
       "    </tr>\n",
       "    <tr>\n",
       "      <th>929593</th>\n",
       "      <td>ind_recibo_ult1 ind_tjcr_fin_ult1 ind_nom_pens...</td>\n",
       "      <td>660189</td>\n",
       "    </tr>\n",
       "    <tr>\n",
       "      <th>929594</th>\n",
       "      <td>ind_recibo_ult1 ind_tjcr_fin_ult1 ind_nom_pens...</td>\n",
       "      <td>660190</td>\n",
       "    </tr>\n",
       "    <tr>\n",
       "      <th>929595</th>\n",
       "      <td>ind_recibo_ult1 ind_tjcr_fin_ult1 ind_nom_pens...</td>\n",
       "      <td>660191</td>\n",
       "    </tr>\n",
       "    <tr>\n",
       "      <th>929596</th>\n",
       "      <td>ind_tjcr_fin_ult1 ind_nom_pens_ult1 ind_nomina...</td>\n",
       "      <td>660193</td>\n",
       "    </tr>\n",
       "    <tr>\n",
       "      <th>929597</th>\n",
       "      <td>ind_recibo_ult1 ind_tjcr_fin_ult1 ind_nom_pens...</td>\n",
       "      <td>660194</td>\n",
       "    </tr>\n",
       "    <tr>\n",
       "      <th>929598</th>\n",
       "      <td>ind_recibo_ult1 ind_tjcr_fin_ult1 ind_nom_pens...</td>\n",
       "      <td>660195</td>\n",
       "    </tr>\n",
       "    <tr>\n",
       "      <th>929599</th>\n",
       "      <td>ind_recibo_ult1 ind_tjcr_fin_ult1 ind_nom_pens...</td>\n",
       "      <td>660197</td>\n",
       "    </tr>\n",
       "    <tr>\n",
       "      <th>929600</th>\n",
       "      <td>ind_recibo_ult1 ind_tjcr_fin_ult1 ind_nom_pens...</td>\n",
       "      <td>660198</td>\n",
       "    </tr>\n",
       "    <tr>\n",
       "      <th>929601</th>\n",
       "      <td>ind_recibo_ult1 ind_tjcr_fin_ult1 ind_nom_pens...</td>\n",
       "      <td>660208</td>\n",
       "    </tr>\n",
       "    <tr>\n",
       "      <th>929602</th>\n",
       "      <td>ind_recibo_ult1 ind_tjcr_fin_ult1 ind_nom_pens...</td>\n",
       "      <td>660212</td>\n",
       "    </tr>\n",
       "    <tr>\n",
       "      <th>929603</th>\n",
       "      <td>ind_tjcr_fin_ult1 ind_nom_pens_ult1 ind_nomina...</td>\n",
       "      <td>660213</td>\n",
       "    </tr>\n",
       "    <tr>\n",
       "      <th>929604</th>\n",
       "      <td>ind_recibo_ult1 ind_tjcr_fin_ult1 ind_nom_pens...</td>\n",
       "      <td>660217</td>\n",
       "    </tr>\n",
       "    <tr>\n",
       "      <th>929605</th>\n",
       "      <td>ind_recibo_ult1 ind_nom_pens_ult1 ind_nomina_u...</td>\n",
       "      <td>660223</td>\n",
       "    </tr>\n",
       "    <tr>\n",
       "      <th>929606</th>\n",
       "      <td>ind_cco_fin_ult1 ind_dela_fin_ult1 ind_reca_fi...</td>\n",
       "      <td>660224</td>\n",
       "    </tr>\n",
       "    <tr>\n",
       "      <th>929607</th>\n",
       "      <td>ind_recibo_ult1 ind_cco_fin_ult1 ind_tjcr_fin_...</td>\n",
       "      <td>660225</td>\n",
       "    </tr>\n",
       "    <tr>\n",
       "      <th>929608</th>\n",
       "      <td>ind_recibo_ult1 ind_tjcr_fin_ult1 ind_nom_pens...</td>\n",
       "      <td>660231</td>\n",
       "    </tr>\n",
       "    <tr>\n",
       "      <th>929609</th>\n",
       "      <td>ind_tjcr_fin_ult1 ind_nom_pens_ult1 ind_nomina...</td>\n",
       "      <td>660235</td>\n",
       "    </tr>\n",
       "    <tr>\n",
       "      <th>929610</th>\n",
       "      <td>ind_tjcr_fin_ult1 ind_dela_fin_ult1 ind_reca_f...</td>\n",
       "      <td>660237</td>\n",
       "    </tr>\n",
       "    <tr>\n",
       "      <th>929611</th>\n",
       "      <td>ind_recibo_ult1 ind_tjcr_fin_ult1 ind_nom_pens...</td>\n",
       "      <td>660238</td>\n",
       "    </tr>\n",
       "    <tr>\n",
       "      <th>929612</th>\n",
       "      <td>ind_recibo_ult1 ind_tjcr_fin_ult1 ind_nom_pens...</td>\n",
       "      <td>660240</td>\n",
       "    </tr>\n",
       "    <tr>\n",
       "      <th>929613</th>\n",
       "      <td>ind_recibo_ult1 ind_tjcr_fin_ult1 ind_nom_pens...</td>\n",
       "      <td>660243</td>\n",
       "    </tr>\n",
       "    <tr>\n",
       "      <th>929614</th>\n",
       "      <td>ind_recibo_ult1 ind_tjcr_fin_ult1 ind_nom_pens...</td>\n",
       "      <td>660248</td>\n",
       "    </tr>\n",
       "  </tbody>\n",
       "</table>\n",
       "<p>929615 rows × 2 columns</p>\n",
       "</div>"
      ],
      "text/plain": [
       "                                           added_products  ncodpers\n",
       "0       ind_recibo_ult1 ind_nom_pens_ult1 ind_nomina_u...     15889\n",
       "1       ind_recibo_ult1 ind_tjcr_fin_ult1 ind_nom_pens...   1170544\n",
       "2       ind_recibo_ult1 ind_nom_pens_ult1 ind_nomina_u...   1170545\n",
       "3       ind_recibo_ult1 ind_nom_pens_ult1 ind_nomina_u...   1170547\n",
       "4       ind_recibo_ult1 ind_nom_pens_ult1 ind_nomina_u...   1170548\n",
       "5       ind_recibo_ult1 ind_nom_pens_ult1 ind_nomina_u...   1170550\n",
       "6       ind_nom_pens_ult1 ind_tjcr_fin_ult1 ind_nomina...   1170552\n",
       "7       ind_recibo_ult1 ind_nom_pens_ult1 ind_nomina_u...   1170553\n",
       "8       ind_recibo_ult1 ind_nom_pens_ult1 ind_nomina_u...   1170555\n",
       "9       ind_recibo_ult1 ind_nom_pens_ult1 ind_nomina_u...   1170557\n",
       "10      ind_recibo_ult1 ind_cco_fin_ult1 ind_nom_pens_...   1170559\n",
       "11      ind_recibo_ult1 ind_nom_pens_ult1 ind_nomina_u...   1170563\n",
       "12      ind_recibo_ult1 ind_nom_pens_ult1 ind_nomina_u...   1170542\n",
       "13      ind_recibo_ult1 ind_nom_pens_ult1 ind_nomina_u...   1170565\n",
       "14      ind_recibo_ult1 ind_nom_pens_ult1 ind_nomina_u...   1170568\n",
       "15      ind_recibo_ult1 ind_nom_pens_ult1 ind_nomina_u...   1170570\n",
       "16      ind_recibo_ult1 ind_nom_pens_ult1 ind_nomina_u...   1170576\n",
       "17      ind_recibo_ult1 ind_tjcr_fin_ult1 ind_nom_pens...   1170578\n",
       "18      ind_nom_pens_ult1 ind_nomina_ult1 ind_tjcr_fin...   1170579\n",
       "19      ind_recibo_ult1 ind_nom_pens_ult1 ind_nomina_u...   1170581\n",
       "20      ind_recibo_ult1 ind_nom_pens_ult1 ind_nomina_u...   1170583\n",
       "21      ind_recibo_ult1 ind_nom_pens_ult1 ind_nomina_u...   1170585\n",
       "22      ind_recibo_ult1 ind_nom_pens_ult1 ind_nomina_u...   1170587\n",
       "23      ind_nom_pens_ult1 ind_nomina_ult1 ind_cno_fin_...   1170588\n",
       "24      ind_recibo_ult1 ind_nom_pens_ult1 ind_nomina_u...   1170589\n",
       "25      ind_recibo_ult1 ind_nom_pens_ult1 ind_nomina_u...   1170567\n",
       "26      ind_recibo_ult1 ind_tjcr_fin_ult1 ind_cco_fin_...   1170541\n",
       "27      ind_recibo_ult1 ind_nom_pens_ult1 ind_tjcr_fin...   1170539\n",
       "28      ind_recibo_ult1 ind_nom_pens_ult1 ind_nomina_u...   1170538\n",
       "29      ind_recibo_ult1 ind_nom_pens_ult1 ind_cco_fin_...   1170493\n",
       "...                                                   ...       ...\n",
       "929585  ind_recibo_ult1 ind_tjcr_fin_ult1 ind_nom_pens...    660255\n",
       "929586  ind_recibo_ult1 ind_tjcr_fin_ult1 ind_nom_pens...    659581\n",
       "929587  ind_recibo_ult1 ind_nom_pens_ult1 ind_nomina_u...    660253\n",
       "929588  ind_nom_pens_ult1 ind_nomina_ult1 ind_cco_fin_...    660244\n",
       "929589  ind_recibo_ult1 ind_tjcr_fin_ult1 ind_nom_pens...    660181\n",
       "929590  ind_recibo_ult1 ind_tjcr_fin_ult1 ind_nom_pens...    660185\n",
       "929591  ind_recibo_ult1 ind_tjcr_fin_ult1 ind_nom_pens...    660186\n",
       "929592  ind_recibo_ult1 ind_tjcr_fin_ult1 ind_nom_pens...    660188\n",
       "929593  ind_recibo_ult1 ind_tjcr_fin_ult1 ind_nom_pens...    660189\n",
       "929594  ind_recibo_ult1 ind_tjcr_fin_ult1 ind_nom_pens...    660190\n",
       "929595  ind_recibo_ult1 ind_tjcr_fin_ult1 ind_nom_pens...    660191\n",
       "929596  ind_tjcr_fin_ult1 ind_nom_pens_ult1 ind_nomina...    660193\n",
       "929597  ind_recibo_ult1 ind_tjcr_fin_ult1 ind_nom_pens...    660194\n",
       "929598  ind_recibo_ult1 ind_tjcr_fin_ult1 ind_nom_pens...    660195\n",
       "929599  ind_recibo_ult1 ind_tjcr_fin_ult1 ind_nom_pens...    660197\n",
       "929600  ind_recibo_ult1 ind_tjcr_fin_ult1 ind_nom_pens...    660198\n",
       "929601  ind_recibo_ult1 ind_tjcr_fin_ult1 ind_nom_pens...    660208\n",
       "929602  ind_recibo_ult1 ind_tjcr_fin_ult1 ind_nom_pens...    660212\n",
       "929603  ind_tjcr_fin_ult1 ind_nom_pens_ult1 ind_nomina...    660213\n",
       "929604  ind_recibo_ult1 ind_tjcr_fin_ult1 ind_nom_pens...    660217\n",
       "929605  ind_recibo_ult1 ind_nom_pens_ult1 ind_nomina_u...    660223\n",
       "929606  ind_cco_fin_ult1 ind_dela_fin_ult1 ind_reca_fi...    660224\n",
       "929607  ind_recibo_ult1 ind_cco_fin_ult1 ind_tjcr_fin_...    660225\n",
       "929608  ind_recibo_ult1 ind_tjcr_fin_ult1 ind_nom_pens...    660231\n",
       "929609  ind_tjcr_fin_ult1 ind_nom_pens_ult1 ind_nomina...    660235\n",
       "929610  ind_tjcr_fin_ult1 ind_dela_fin_ult1 ind_reca_f...    660237\n",
       "929611  ind_recibo_ult1 ind_tjcr_fin_ult1 ind_nom_pens...    660238\n",
       "929612  ind_recibo_ult1 ind_tjcr_fin_ult1 ind_nom_pens...    660240\n",
       "929613  ind_recibo_ult1 ind_tjcr_fin_ult1 ind_nom_pens...    660243\n",
       "929614  ind_recibo_ult1 ind_tjcr_fin_ult1 ind_nom_pens...    660248\n",
       "\n",
       "[929615 rows x 2 columns]"
      ]
     },
     "execution_count": 64,
     "metadata": {},
     "output_type": "execute_result"
    }
   ],
   "source": [
    "submission[1]"
   ]
  },
  {
   "cell_type": "code",
   "execution_count": null,
   "metadata": {},
   "outputs": [],
   "source": []
  }
 ],
 "metadata": {
  "kernelspec": {
   "display_name": "Python 3",
   "language": "python",
   "name": "python3"
  },
  "language_info": {
   "codemirror_mode": {
    "name": "ipython",
    "version": 3
   },
   "file_extension": ".py",
   "mimetype": "text/x-python",
   "name": "python",
   "nbconvert_exporter": "python",
   "pygments_lexer": "ipython3",
   "version": "3.6.4"
  }
 },
 "nbformat": 4,
 "nbformat_minor": 2
}
