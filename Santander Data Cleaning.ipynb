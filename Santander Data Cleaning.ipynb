{
 "cells": [
  {
   "cell_type": "code",
   "execution_count": 1,
   "metadata": {},
   "outputs": [],
   "source": [
    "import pandas as pd\n",
    "import numpy as np\n",
    "import matplotlib.pyplot as plt"
   ]
  },
  {
   "cell_type": "code",
   "execution_count": 2,
   "metadata": {},
   "outputs": [
    {
     "name": "stderr",
     "output_type": "stream",
     "text": [
      "C:\\Users\\liamc\\Anaconda3\\lib\\site-packages\\IPython\\core\\interactiveshell.py:2728: DtypeWarning: Columns (5,8,11,15) have mixed types. Specify dtype option on import or set low_memory=False.\n",
      "  interactivity=interactivity, compiler=compiler, result=result)\n"
     ]
    }
   ],
   "source": [
    "train = pd.read_csv(r'E:\\Santander Recommendation\\train_ver2.csv')"
   ]
  },
  {
   "cell_type": "code",
   "execution_count": 3,
   "metadata": {},
   "outputs": [
    {
     "name": "stderr",
     "output_type": "stream",
     "text": [
      "C:\\Users\\liamc\\Anaconda3\\lib\\site-packages\\IPython\\core\\interactiveshell.py:2728: DtypeWarning: Columns (15) have mixed types. Specify dtype option on import or set low_memory=False.\n",
      "  interactivity=interactivity, compiler=compiler, result=result)\n"
     ]
    }
   ],
   "source": [
    "test = pd.read_csv(r'E:\\Santander Recommendation\\test_ver2.csv')"
   ]
  },
  {
   "cell_type": "code",
   "execution_count": 4,
   "metadata": {},
   "outputs": [],
   "source": [
    "df = pd.concat([train,test], axis = 0, ignore_index = True)\n",
    "train =[]\n",
    "test=[]"
   ]
  },
  {
   "cell_type": "code",
   "execution_count": 39,
   "metadata": {},
   "outputs": [
    {
     "data": {
      "text/plain": [
       "age                             0\n",
       "antiguedad                      0\n",
       "canal_entrada                   0\n",
       "conyuemp                        0\n",
       "fecha_alta                      0\n",
       "fecha_dato                      0\n",
       "ind_actividad_cliente           0\n",
       "ind_ahor_fin_ult1          929615\n",
       "ind_aval_fin_ult1          929615\n",
       "ind_cco_fin_ult1           929615\n",
       "ind_cder_fin_ult1          929615\n",
       "ind_cno_fin_ult1           929615\n",
       "ind_ctju_fin_ult1          929615\n",
       "ind_ctma_fin_ult1          929615\n",
       "ind_ctop_fin_ult1          929615\n",
       "ind_ctpp_fin_ult1          929615\n",
       "ind_deco_fin_ult1          929615\n",
       "ind_dela_fin_ult1          929615\n",
       "ind_deme_fin_ult1          929615\n",
       "ind_ecue_fin_ult1          929615\n",
       "ind_empleado                    0\n",
       "ind_fond_fin_ult1          929615\n",
       "ind_hip_fin_ult1           929615\n",
       "ind_nom_pens_ult1          929832\n",
       "ind_nomina_ult1                 0\n",
       "ind_nuevo                       0\n",
       "ind_plan_fin_ult1          929615\n",
       "ind_pres_fin_ult1          929615\n",
       "ind_reca_fin_ult1          929615\n",
       "ind_recibo_ult1            929615\n",
       "ind_tjcr_fin_ult1          929615\n",
       "ind_valo_fin_ult1          929615\n",
       "ind_viv_fin_ult1           929615\n",
       "indext                          0\n",
       "indfall                         0\n",
       "indrel                          0\n",
       "indrel_1mes                     0\n",
       "indresi                         0\n",
       "ncodpers                        0\n",
       "nomprov                         0\n",
       "pais_residencia                 0\n",
       "renta                           0\n",
       "segmento                        0\n",
       "sexo                            0\n",
       "tipodom                         1\n",
       "tiprel_1mes                     0\n",
       "ult_fec_cli_1t           14522714\n",
       "dtype: int64"
      ]
     },
     "execution_count": 39,
     "metadata": {},
     "output_type": "execute_result"
    }
   ],
   "source": [
    "df.isnull().sum()"
   ]
  },
  {
   "cell_type": "markdown",
   "metadata": {},
   "source": [
    "Impute Missing Values"
   ]
  },
  {
   "cell_type": "code",
   "execution_count": 6,
   "metadata": {},
   "outputs": [],
   "source": [
    "dirtyrows = df[df.ind_empleado.isnull()].index"
   ]
  },
  {
   "cell_type": "code",
   "execution_count": 35,
   "metadata": {},
   "outputs": [],
   "source": [
    "df = df.drop(dirtyrows, axis = 0)"
   ]
  },
  {
   "cell_type": "code",
   "execution_count": 7,
   "metadata": {},
   "outputs": [],
   "source": [
    "#fill with most common registration method\n",
    "df.canal_entrada = df.canal_entrada.fillna(\"Unknown\")"
   ]
  },
  {
   "cell_type": "code",
   "execution_count": 8,
   "metadata": {},
   "outputs": [],
   "source": [
    "#get rid of redundant province code column\n",
    "df = df.drop(\"cod_prov\", 1)"
   ]
  },
  {
   "cell_type": "code",
   "execution_count": 9,
   "metadata": {},
   "outputs": [],
   "source": [
    "#Is spouse\n",
    "df.conyuemp = df.conyuemp.fillna(\"Unknown\")"
   ]
  },
  {
   "cell_type": "code",
   "execution_count": 10,
   "metadata": {},
   "outputs": [],
   "source": [
    "#Customer type at the beginning of the month\n",
    "df.loc[df.indrel_1mes == '1', 'indrel_1mes'] = 'Primary'\n",
    "df.loc[df.indrel_1mes == '1.0', 'indrel_1mes'] = 'Primary'\n",
    "df.loc[df.indrel_1mes == 1, 'indrel_1mes'] = 'Primary'\n",
    "df.loc[df.indrel_1mes == 1.0, 'indrel_1mes'] = 'Primary'\n",
    "\n",
    "df.loc[df.indrel_1mes == '2', 'indrel_1mes'] = 'Co-owner'\n",
    "df.loc[df.indrel_1mes == '2.0', 'indrel_1mes'] = 'Co-owner'\n",
    "df.loc[df.indrel_1mes == 2, 'indrel_1mes'] = 'Co-owner'\n",
    "df.loc[df.indrel_1mes == 2.0, 'indrel_1mes'] = 'Co-owner'\n",
    "\n",
    "df.loc[df.indrel_1mes == '3', 'indrel_1mes'] = 'Former Primary'\n",
    "df.loc[df.indrel_1mes == '3.0', 'indrel_1mes'] = 'Former Primary'\n",
    "df.loc[df.indrel_1mes == 3, 'indrel_1mes'] = 'Former Primary'\n",
    "df.loc[df.indrel_1mes == 3.0, 'indrel_1mes'] = 'Former Primary'\n",
    "\n",
    "df.loc[df.indrel_1mes == '4', 'indrel_1mes'] = 'Former Co-owner'\n",
    "df.loc[df.indrel_1mes == '4.0', 'indrel_1mes'] = 'Former Co-owner'\n",
    "df.loc[df.indrel_1mes == 4, 'indrel_1mes'] = 'Former Co-owner'\n",
    "df.loc[df.indrel_1mes == 4.0, 'indrel_1mes'] = 'Former Co-owner'"
   ]
  },
  {
   "cell_type": "code",
   "execution_count": 11,
   "metadata": {},
   "outputs": [],
   "source": [
    "df.indrel_1mes  = df.indrel_1mes.fillna('Primary')"
   ]
  },
  {
   "cell_type": "code",
   "execution_count": 12,
   "metadata": {},
   "outputs": [],
   "source": [
    "#cutomer province\n",
    "df.nomprov = df.nomprov.fillna(\"MADRID\")"
   ]
  },
  {
   "cell_type": "code",
   "execution_count": 14,
   "metadata": {},
   "outputs": [],
   "source": [
    "#gross household income\n",
    "df.renta = df.renta.fillna(0)"
   ]
  },
  {
   "cell_type": "code",
   "execution_count": 16,
   "metadata": {},
   "outputs": [],
   "source": [
    "df.loc[df.renta == '         NA',\"renta\"] = 0"
   ]
  },
  {
   "cell_type": "code",
   "execution_count": null,
   "metadata": {},
   "outputs": [],
   "source": [
    "df.renta = df.renta.astype(float)"
   ]
  },
  {
   "cell_type": "code",
   "execution_count": 18,
   "metadata": {},
   "outputs": [],
   "source": [
    "#impute missing incomes with median for province\n",
    "df.loc[df.renta == 0, 'renta'] = df[df.renta > 0].groupby('nomprov').renta.transform('median')\n",
    "df.loc[df.renta.isnull(), \"renta\"] = df.groupby('nomprov').renta.transform('median')"
   ]
  },
  {
   "cell_type": "code",
   "execution_count": 21,
   "metadata": {},
   "outputs": [],
   "source": [
    "#impute segmento base on income brackets of the segmentos (type of account)\n",
    "df.segmento = df[df.renta <= 96000].segmento.fillna(\"03 - UNIVERSITARIO\")\n",
    "df.segmento = df[df.renta <= 119500].segmento.fillna(\"02 - PARTICULARES\")\n",
    "df.segmento = df.segmento.fillna(\"01 - TOP\")"
   ]
  },
  {
   "cell_type": "code",
   "execution_count": 23,
   "metadata": {},
   "outputs": [],
   "source": [
    "#set the missing values of sex to most common\n",
    "df.sexo = df.sexo.fillna(\"V\")"
   ]
  },
  {
   "cell_type": "code",
   "execution_count": 24,
   "metadata": {},
   "outputs": [],
   "source": [
    "#set missing values of customer relation at end of month\n",
    "df.tiprel_1mes = df.tiprel_1mes.fillna('I')"
   ]
  },
  {
   "cell_type": "code",
   "execution_count": 25,
   "metadata": {},
   "outputs": [
    {
     "name": "stderr",
     "output_type": "stream",
     "text": [
      "C:\\Users\\liamc\\Anaconda3\\lib\\site-packages\\ipykernel_launcher.py:3: UserWarning: Pandas doesn't allow columns to be created via a new attribute name - see https://pandas.pydata.org/pandas-docs/stable/indexing.html#attribute-access\n",
      "  This is separate from the ipykernel package so we can avoid doing imports until\n"
     ]
    }
   ],
   "source": [
    "#set missing value to most common for payroll and pensions products\n",
    "df.ind_nomina_ult1 = df.ind_nomina_ult1.fillna(0.0)\n",
    "df.ind_nom_pens_ult1ind_nom_  = df.ind_nom_pens_ult1.fillna(0.0)"
   ]
  },
  {
   "cell_type": "code",
   "execution_count": 37,
   "metadata": {},
   "outputs": [],
   "source": [
    "# impute nonsensical values of seniority \n",
    "df.loc[df.antiguedad == -999999, 'antiguedad'] = df.antiguedad.median()"
   ]
  },
  {
   "cell_type": "code",
   "execution_count": 38,
   "metadata": {},
   "outputs": [],
   "source": [
    "#change 99 to zero this is a binary variable for -is primary customer\n",
    "df.loc[df.indrel == 99.0, \"indrel\"] = 0.0"
   ]
  },
  {
   "cell_type": "code",
   "execution_count": null,
   "metadata": {},
   "outputs": [],
   "source": []
  }
 ],
 "metadata": {
  "kernelspec": {
   "display_name": "Python 3",
   "language": "python",
   "name": "python3"
  },
  "language_info": {
   "codemirror_mode": {
    "name": "ipython",
    "version": 3
   },
   "file_extension": ".py",
   "mimetype": "text/x-python",
   "name": "python",
   "nbconvert_exporter": "python",
   "pygments_lexer": "ipython3",
   "version": "3.6.4"
  }
 },
 "nbformat": 4,
 "nbformat_minor": 2
}
