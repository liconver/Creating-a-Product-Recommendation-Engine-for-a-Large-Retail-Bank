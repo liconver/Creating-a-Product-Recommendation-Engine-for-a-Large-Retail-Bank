{
 "cells": [
  {
   "cell_type": "code",
   "execution_count": 1,
   "metadata": {},
   "outputs": [],
   "source": [
    "import numpy as np\n",
    "import pandas as pd\n",
    "import datetime"
   ]
  },
  {
   "cell_type": "code",
   "execution_count": 2,
   "metadata": {},
   "outputs": [],
   "source": [
    "start_time = datetime.datetime.now()"
   ]
  },
  {
   "cell_type": "code",
   "execution_count": 3,
   "metadata": {},
   "outputs": [
    {
     "name": "stderr",
     "output_type": "stream",
     "text": [
      "C:\\Users\\liamc\\Anaconda3\\lib\\site-packages\\IPython\\core\\interactiveshell.py:2728: DtypeWarning: Columns (5,8,11,15) have mixed types. Specify dtype option on import or set low_memory=False.\n",
      "  interactivity=interactivity, compiler=compiler, result=result)\n"
     ]
    }
   ],
   "source": [
    "train = pd.read_csv(r'E:\\Santander Recommendation\\train_ver2.csv')"
   ]
  },
  {
   "cell_type": "code",
   "execution_count": 4,
   "metadata": {},
   "outputs": [],
   "source": [
    "product_cols = ['ind_ahor_fin_ult1','ind_aval_fin_ult1','ind_cco_fin_ult1','ind_cder_fin_ult1',\n",
    "                'ind_cno_fin_ult1','ind_ctju_fin_ult1','ind_ctma_fin_ult1','ind_ctop_fin_ult1',\n",
    "                'ind_ctpp_fin_ult1','ind_deco_fin_ult1','ind_dela_fin_ult1','ind_deme_fin_ult1',\n",
    "                'ind_ecue_fin_ult1','ind_fond_fin_ult1','ind_hip_fin_ult1','ind_nom_pens_ult1',\n",
    "                'ind_nomina_ult1','ind_plan_fin_ult1','ind_pres_fin_ult1','ind_reca_fin_ult1',\n",
    "               'ind_recibo_ult1','ind_tjcr_fin_ult1','ind_valo_fin_ult1','ind_viv_fin_ult1']"
   ]
  },
  {
   "cell_type": "code",
   "execution_count": 5,
   "metadata": {},
   "outputs": [],
   "source": [
    "#product_cols = ['ind_cco_fin_ult1',\n",
    " #               'ind_cno_fin_ult1','ind_ctju_fin_ult1','ind_ctma_fin_ult1','ind_ctop_fin_ult1',\n",
    "  #              'ind_ctpp_fin_ult1','ind_deco_fin_ult1','ind_dela_fin_ult1','ind_deme_fin_ult1',\n",
    "   #             'ind_ecue_fin_ult1','ind_fond_fin_ult1','ind_nom_pens_ult1',\n",
    "    #            'ind_nomina_ult1','ind_plan_fin_ult1','ind_pres_fin_ult1','ind_reca_fin_ult1',\n",
    "     #           'ind_recibo_ult1','ind_tjcr_fin_ult1','ind_valo_fin_ult1']\n",
    "#excluded 5 least frequent"
   ]
  },
  {
   "cell_type": "code",
   "execution_count": 6,
   "metadata": {},
   "outputs": [],
   "source": [
    "dates = train.fecha_dato.unique()"
   ]
  },
  {
   "cell_type": "code",
   "execution_count": 7,
   "metadata": {},
   "outputs": [
    {
     "data": {
      "text/plain": [
       "array(['2015-01-28', '2015-02-28', '2015-03-28', '2015-04-28',\n",
       "       '2015-05-28', '2015-06-28', '2015-07-28', '2015-08-28',\n",
       "       '2015-09-28', '2015-10-28', '2015-11-28', '2015-12-28',\n",
       "       '2016-01-28', '2016-02-28', '2016-03-28', '2016-04-28',\n",
       "       '2016-05-28'], dtype=object)"
      ]
     },
     "execution_count": 7,
     "metadata": {},
     "output_type": "execute_result"
    }
   ],
   "source": [
    "dates"
   ]
  },
  {
   "cell_type": "code",
   "execution_count": 8,
   "metadata": {},
   "outputs": [],
   "source": [
    "#months=[]\n",
    "#for date in dates:\n",
    " #   months.append(train.loc[train['fecha_dato']==str(date)])\n",
    "  #      #months[i] = train.loc[train['fecha_dato']==str(date)]\n",
    "#len(months)       "
   ]
  },
  {
   "cell_type": "code",
   "execution_count": 9,
   "metadata": {},
   "outputs": [],
   "source": [
    "m1 = train.loc[train['fecha_dato']==dates[0], product_cols+['ncodpers']]\n",
    "m2 = train.loc[train['fecha_dato']==dates[1], product_cols+['ncodpers']]\n",
    "m3 = train.loc[train['fecha_dato']==dates[2], product_cols+['ncodpers']]\n",
    "m4 = train.loc[train['fecha_dato']==dates[3], product_cols+['ncodpers']]\n",
    "m5 = train.loc[train['fecha_dato']==dates[4], product_cols+['ncodpers']]\n",
    "m6 = train.loc[train['fecha_dato']==dates[5], product_cols+['ncodpers']]\n",
    "m7 = train.loc[train['fecha_dato']==dates[6], product_cols+['ncodpers']]\n",
    "m8 = train.loc[train['fecha_dato']==dates[7], product_cols+['ncodpers']]\n",
    "m9 = train.loc[train['fecha_dato']==dates[8], product_cols+['ncodpers']]\n",
    "m10 = train.loc[train['fecha_dato']==dates[9], product_cols+['ncodpers']]\n",
    "m11 = train.loc[train['fecha_dato']==dates[10], product_cols+['ncodpers']]\n",
    "m12 = train.loc[train['fecha_dato']==dates[11], product_cols+['ncodpers']]\n",
    "m13 = train.loc[train['fecha_dato']==dates[12], product_cols+['ncodpers']]\n",
    "m14 = train.loc[train['fecha_dato']==dates[13], product_cols+['ncodpers']]\n",
    "m15 = train.loc[train['fecha_dato']==dates[14], product_cols+['ncodpers']]\n",
    "m16 = train.loc[train['fecha_dato']==dates[15], product_cols+['ncodpers']]\n",
    "m17 = train.loc[train['fecha_dato']==dates[16], product_cols+['ncodpers']]"
   ]
  },
  {
   "cell_type": "code",
   "execution_count": 10,
   "metadata": {},
   "outputs": [],
   "source": [
    "final_month = train[train.fecha_dato == '2016-05-28']"
   ]
  },
  {
   "cell_type": "code",
   "execution_count": 11,
   "metadata": {},
   "outputs": [],
   "source": [
    "train = []"
   ]
  },
  {
   "cell_type": "code",
   "execution_count": 12,
   "metadata": {},
   "outputs": [
    {
     "name": "stderr",
     "output_type": "stream",
     "text": [
      "C:\\Users\\liamc\\Anaconda3\\lib\\site-packages\\lightfm\\_lightfm_fast.py:9: UserWarning: LightFM was compiled without OpenMP support. Only a single thread will be used.\n",
      "  warnings.warn('LightFM was compiled without OpenMP support. '\n"
     ]
    }
   ],
   "source": [
    "from lightfm.data import Dataset"
   ]
  },
  {
   "cell_type": "code",
   "execution_count": 13,
   "metadata": {},
   "outputs": [],
   "source": [
    "dataset = Dataset()"
   ]
  },
  {
   "cell_type": "markdown",
   "metadata": {},
   "source": [
    "#### I may need to define function for the sequential partial fitting of each model to the model"
   ]
  },
  {
   "cell_type": "code",
   "execution_count": 14,
   "metadata": {},
   "outputs": [],
   "source": [
    "dataset.fit_partial(m1['ncodpers'],product_cols)"
   ]
  },
  {
   "cell_type": "code",
   "execution_count": 15,
   "metadata": {},
   "outputs": [],
   "source": [
    "dataset.fit_partial(m2['ncodpers'],product_cols)"
   ]
  },
  {
   "cell_type": "code",
   "execution_count": 16,
   "metadata": {},
   "outputs": [],
   "source": [
    "dataset.fit_partial(m3['ncodpers'],product_cols)\n",
    "dataset.fit_partial(m4['ncodpers'],product_cols)\n",
    "dataset.fit_partial(m5['ncodpers'],product_cols)\n",
    "dataset.fit_partial(m6['ncodpers'],product_cols)\n",
    "dataset.fit_partial(m7['ncodpers'],product_cols)\n",
    "dataset.fit_partial(m8['ncodpers'],product_cols)\n",
    "dataset.fit_partial(m9['ncodpers'],product_cols)\n",
    "dataset.fit_partial(m10['ncodpers'],product_cols)\n",
    "dataset.fit_partial(m11['ncodpers'],product_cols)\n",
    "dataset.fit_partial(m12['ncodpers'],product_cols)\n",
    "dataset.fit_partial(m13['ncodpers'],product_cols)\n",
    "dataset.fit_partial(m14['ncodpers'],product_cols)\n",
    "dataset.fit_partial(m15['ncodpers'],product_cols)\n",
    "dataset.fit_partial(m16['ncodpers'],product_cols)\n",
    "dataset.fit_partial(m17['ncodpers'],product_cols)"
   ]
  },
  {
   "cell_type": "code",
   "execution_count": 17,
   "metadata": {},
   "outputs": [
    {
     "name": "stdout",
     "output_type": "stream",
     "text": [
      "Num users: 956645, num_items 24.\n"
     ]
    }
   ],
   "source": [
    "num_users, num_items = dataset.interactions_shape()\n",
    "print('Num users: {}, num_items {}.'.format(num_users, num_items))"
   ]
  },
  {
   "cell_type": "code",
   "execution_count": 18,
   "metadata": {},
   "outputs": [],
   "source": [
    "from lightfm import LightFM\n",
    "\n",
    "model = LightFM(no_components=20,learning_schedule='adadelta',loss='warp')"
   ]
  },
  {
   "cell_type": "markdown",
   "metadata": {},
   "source": [
    "#### Probably better add the interactions for each month using a loop"
   ]
  },
  {
   "cell_type": "code",
   "execution_count": 19,
   "metadata": {},
   "outputs": [],
   "source": [
    "months = [m1,m2,m3,m4,m5,m6,m7,m8,m9,m10,m11,m12,m13,m14,m15,m16,m17]\n",
    "month_weights= [.5,.5,.5,.5,1,3,.5,.5,.5,.5,1,1,1,1,1,1,2]"
   ]
  },
  {
   "cell_type": "code",
   "execution_count": 20,
   "metadata": {},
   "outputs": [
    {
     "name": "stdout",
     "output_type": "stream",
     "text": [
      "<956645x24 sparse matrix of type '<class 'numpy.int32'>'\n",
      "\twith 1109367 stored elements in COOrdinate format>\n",
      "<956645x24 sparse matrix of type '<class 'numpy.int32'>'\n",
      "\twith 1112733 stored elements in COOrdinate format>\n",
      "<956645x24 sparse matrix of type '<class 'numpy.int32'>'\n",
      "\twith 1118829 stored elements in COOrdinate format>\n",
      "<956645x24 sparse matrix of type '<class 'numpy.int32'>'\n",
      "\twith 1124795 stored elements in COOrdinate format>\n",
      "<956645x24 sparse matrix of type '<class 'numpy.int32'>'\n",
      "\twith 1119858 stored elements in COOrdinate format>\n",
      "<956645x24 sparse matrix of type '<class 'numpy.int32'>'\n",
      "\twith 1132501 stored elements in COOrdinate format>\n",
      "<956645x24 sparse matrix of type '<class 'numpy.int32'>'\n",
      "\twith 1147960 stored elements in COOrdinate format>\n",
      "<956645x24 sparse matrix of type '<class 'numpy.int32'>'\n",
      "\twith 1151798 stored elements in COOrdinate format>\n",
      "<956645x24 sparse matrix of type '<class 'numpy.int32'>'\n",
      "\twith 1173705 stored elements in COOrdinate format>\n",
      "<956645x24 sparse matrix of type '<class 'numpy.int32'>'\n",
      "\twith 1198063 stored elements in COOrdinate format>\n",
      "<956645x24 sparse matrix of type '<class 'numpy.int32'>'\n",
      "\twith 1207748 stored elements in COOrdinate format>\n",
      "<956645x24 sparse matrix of type '<class 'numpy.int32'>'\n",
      "\twith 1220647 stored elements in COOrdinate format>\n",
      "<956645x24 sparse matrix of type '<class 'numpy.int32'>'\n",
      "\twith 1206284 stored elements in COOrdinate format>\n",
      "<956645x24 sparse matrix of type '<class 'numpy.int32'>'\n",
      "\twith 1222968 stored elements in COOrdinate format>\n",
      "<956645x24 sparse matrix of type '<class 'numpy.int32'>'\n",
      "\twith 1230966 stored elements in COOrdinate format>\n",
      "<956645x24 sparse matrix of type '<class 'numpy.int32'>'\n",
      "\twith 1233896 stored elements in COOrdinate format>\n",
      "<956645x24 sparse matrix of type '<class 'numpy.int32'>'\n",
      "\twith 1240538 stored elements in COOrdinate format>\n"
     ]
    }
   ],
   "source": [
    "weight=0\n",
    "for m in months:\n",
    "    labels = m.set_index(\"ncodpers\")\n",
    "    stacked_labels = labels.stack()\n",
    "    filtered_labels = stacked_labels.reset_index()\n",
    "    filtered_labels['weights'] = month_weights[weight]\n",
    "    filtered_labels.columns = [\"ncodpers\", \"product\", \"interaction\",'weights']\n",
    "    interactionsdf = filtered_labels.loc[filtered_labels['interaction']==1]\n",
    "    (interactions, weights) = dataset.build_interactions((interactionsdf.iloc[x,0], interactionsdf.iloc[x,1], interactionsdf.iloc[x,2])\n",
    "                                                     for x in range(len(interactionsdf)))\n",
    "    print(repr(interactions))\n",
    "    model.fit_partial(interactions,epochs=7)\n",
    "    weight += 1\n",
    "    \n",
    "    "
   ]
  },
  {
   "cell_type": "code",
   "execution_count": 21,
   "metadata": {},
   "outputs": [
    {
     "name": "stderr",
     "output_type": "stream",
     "text": [
      "C:\\Users\\liamc\\Anaconda3\\lib\\site-packages\\IPython\\core\\interactiveshell.py:2728: DtypeWarning: Columns (15) have mixed types. Specify dtype option on import or set low_memory=False.\n",
      "  interactivity=interactivity, compiler=compiler, result=result)\n"
     ]
    }
   ],
   "source": [
    "test = pd.read_csv(r'E:\\Santander Recommendation\\test_ver2.csv')"
   ]
  },
  {
   "cell_type": "code",
   "execution_count": 22,
   "metadata": {},
   "outputs": [],
   "source": [
    "#test.loc[test.renta == '         NA',\"renta\"] = 0\n",
    "#test.renta = test.renta.astype(float)\n",
    "#test.loc[test.renta == 0, 'renta'] = test[test.renta > 0].groupby('nomprov').renta.transform('median')\n",
    "#test.loc[test.renta.isnull(), \"renta\"] = test.groupby('nomprov').renta.transform('median')\n",
    "#test.renta = test.renta.fillna(test.renta.median())\n",
    "#test['rentaGroup'] = test.renta.astype(float) // 20000\n",
    "#test.loc[test.renta >= 400000, \"rentaGroup\"] = 20\n",
    "#test.loc[test.renta >= 1000000, \"rentaGroup\"] = 21\n",
    "#incomelevel = test.rentaGroup.values\n",
    "#d = {'users':users,'incomelevel':incomelevel}\n",
    "#features = pd.DataFrame(d)\n",
    "#dataset.fit_partial(users=users,user_features=incomelevels)\n",
    "#user_features = dataset.build_user_features((features.iloc[x,0], [features.iloc[x,1]])\n",
    " #                                                    for x in range(len(features)))\n",
    "#features.head()\n",
    "#print(repr(user_features))\n",
    "#model = LightFM(loss='bpr')\n",
    "#model.fit(interactions,user_features=user_features,epochs=10,verbose=True)"
   ]
  },
  {
   "cell_type": "code",
   "execution_count": 23,
   "metadata": {},
   "outputs": [],
   "source": [
    "users = test.ncodpers.values"
   ]
  },
  {
   "cell_type": "code",
   "execution_count": 24,
   "metadata": {},
   "outputs": [
    {
     "data": {
      "text/plain": [
       "array([  15889, 1170544, 1170545, ...,  660240,  660243,  660248],\n",
       "      dtype=int64)"
      ]
     },
     "execution_count": 24,
     "metadata": {},
     "output_type": "execute_result"
    }
   ],
   "source": [
    "users"
   ]
  },
  {
   "cell_type": "code",
   "execution_count": 25,
   "metadata": {},
   "outputs": [],
   "source": [
    "n_users, n_items = dataset.interactions_shape()"
   ]
  },
  {
   "cell_type": "code",
   "execution_count": 26,
   "metadata": {},
   "outputs": [
    {
     "data": {
      "text/plain": [
       "array([-1.26108146, -1.89072335,  5.86718416, -0.66844809,  1.58206868,\n",
       "       -1.68874311,  1.68639874,  0.40130308, -0.15004243, -1.8489728 ,\n",
       "        0.15680848, -1.92260516,  2.26568317,  0.01055612, -1.29948819,\n",
       "        2.32537699,  2.6578114 ,  0.81399935, -0.87748647,  1.37966883,\n",
       "        4.61672735,  1.95125794,  0.85652059, -1.53693748])"
      ]
     },
     "execution_count": 26,
     "metadata": {},
     "output_type": "execute_result"
    }
   ],
   "source": [
    "item_ids = np.arange(n_items)\n",
    "model.predict(0,item_ids)"
   ]
  },
  {
   "cell_type": "code",
   "execution_count": 27,
   "metadata": {},
   "outputs": [
    {
     "data": {
      "text/plain": [
       "235546"
      ]
     },
     "execution_count": 27,
     "metadata": {},
     "output_type": "execute_result"
    }
   ],
   "source": [
    "dataset.mapping()[1][1170544]"
   ]
  },
  {
   "cell_type": "code",
   "execution_count": 28,
   "metadata": {},
   "outputs": [],
   "source": [
    "preds = []\n",
    "item_ids = np.arange(n_items)\n",
    "for user_id in users:\n",
    "    emb_id = dataset.mapping()[1][user_id]\n",
    "    scores = model.predict(emb_id,item_ids)\n",
    "    preds.append(scores)\n",
    "    scores = []"
   ]
  },
  {
   "cell_type": "code",
   "execution_count": 29,
   "metadata": {},
   "outputs": [],
   "source": [
    "preds =np.array([np.array(predi) for predi in preds])"
   ]
  },
  {
   "cell_type": "code",
   "execution_count": 30,
   "metadata": {},
   "outputs": [],
   "source": [
    "preds = np.argsort(preds, axis=1)\n",
    "preds = np.fliplr(preds)"
   ]
  },
  {
   "cell_type": "code",
   "execution_count": 31,
   "metadata": {},
   "outputs": [
    {
     "data": {
      "text/plain": [
       "array([22,  8,  2, 21,  5, 15,  6, 16, 13, 20, 18, 10, 17,  3, 12,  4,  0,\n",
       "        9,  1, 23, 11, 14, 19,  7], dtype=int64)"
      ]
     },
     "execution_count": 31,
     "metadata": {},
     "output_type": "execute_result"
    }
   ],
   "source": [
    "preds[0]"
   ]
  },
  {
   "cell_type": "code",
   "execution_count": 32,
   "metadata": {},
   "outputs": [],
   "source": [
    "m1 = []\n",
    "m2 = []\n",
    "m3 = []\n",
    "m4 = []\n",
    "m5 = []\n",
    "m6 = []\n",
    "m7 = []\n",
    "m8 = []\n",
    "m9 = []\n",
    "m10 = []\n",
    "m11 = []\n",
    "m12 = []\n",
    "m13 = []\n",
    "m14 = []\n",
    "m15 = []\n",
    "m16 = []\n",
    "m17 = []"
   ]
  },
  {
   "cell_type": "code",
   "execution_count": 33,
   "metadata": {},
   "outputs": [
    {
     "name": "stdout",
     "output_type": "stream",
     "text": [
      "Step 1/11\n",
      "Step 2/11\n",
      "Step 3/11\n"
     ]
    },
    {
     "name": "stderr",
     "output_type": "stream",
     "text": [
      "C:\\Users\\liamc\\Anaconda3\\lib\\site-packages\\ipykernel_launcher.py:6: SettingWithCopyWarning: \n",
      "A value is trying to be set on a copy of a slice from a DataFrame.\n",
      "Try using .loc[row_indexer,col_indexer] = value instead\n",
      "\n",
      "See the caveats in the documentation: http://pandas.pydata.org/pandas-docs/stable/indexing.html#indexing-view-versus-copy\n",
      "  \n"
     ]
    },
    {
     "name": "stdout",
     "output_type": "stream",
     "text": [
      "Step 4/11\n",
      "Step 5/11\n",
      "Step 6/11\n",
      "Step 7/11\n",
      "Step 8/11\n",
      "Step 9/11\n",
      "Step 10/11\n"
     ]
    }
   ],
   "source": [
    "print(\"Step 1/11\")\n",
    "#Get the target columns\n",
    "labels_final_month = final_month[product_cols]\n",
    "print(\"Step 2/11\")\n",
    "#Add ncodpers to the dataframe\n",
    "labels_final_month['ncodpers'] = final_month.ncodpers\n",
    "print(\"Step 3/11\")\n",
    "labels_final_month = labels_final_month.set_index(\"ncodpers\")\n",
    "print(\"Step 4/11\")\n",
    "stacked_labels_final_month = labels_final_month.stack()\n",
    "print(\"Step 5/11\")\n",
    "filtered_labels_final_month = stacked_labels_final_month.reset_index()\n",
    "print(\"Step 6/11\")\n",
    "filtered_labels_final_month.columns = [\"ncodpers\", \"product\", \"owned\"]\n",
    "print(\"Step 7/11\")\n",
    "#Only select the rows where there is a new product.\n",
    "filtered_labels_final_month = filtered_labels_final_month[filtered_labels_final_month[\"owned\"] == 1]\n",
    "print(\"Step 8/11\")\n",
    "#Merge with the training features.\n",
    "print(\"Step 9/11\")\n",
    "final_month = filtered_labels_final_month.drop_duplicates(keep='last')\n",
    "print(\"Step 10/11\")\n",
    "labels_final_month_final = final_month['product']"
   ]
  },
  {
   "cell_type": "code",
   "execution_count": 34,
   "metadata": {},
   "outputs": [],
   "source": [
    "final_month['product_#'] = labels_final_month_final.astype('category').cat.codes"
   ]
  },
  {
   "cell_type": "code",
   "execution_count": 35,
   "metadata": {},
   "outputs": [
    {
     "data": {
      "text/html": [
       "<div>\n",
       "<style scoped>\n",
       "    .dataframe tbody tr th:only-of-type {\n",
       "        vertical-align: middle;\n",
       "    }\n",
       "\n",
       "    .dataframe tbody tr th {\n",
       "        vertical-align: top;\n",
       "    }\n",
       "\n",
       "    .dataframe thead th {\n",
       "        text-align: right;\n",
       "    }\n",
       "</style>\n",
       "<table border=\"1\" class=\"dataframe\">\n",
       "  <thead>\n",
       "    <tr style=\"text-align: right;\">\n",
       "      <th></th>\n",
       "      <th>ncodpers</th>\n",
       "      <th>product</th>\n",
       "      <th>owned</th>\n",
       "      <th>product_#</th>\n",
       "    </tr>\n",
       "  </thead>\n",
       "  <tbody>\n",
       "    <tr>\n",
       "      <th>26</th>\n",
       "      <td>657788</td>\n",
       "      <td>ind_cco_fin_ult1</td>\n",
       "      <td>1.0</td>\n",
       "      <td>2</td>\n",
       "    </tr>\n",
       "    <tr>\n",
       "      <th>50</th>\n",
       "      <td>657795</td>\n",
       "      <td>ind_cco_fin_ult1</td>\n",
       "      <td>1.0</td>\n",
       "      <td>2</td>\n",
       "    </tr>\n",
       "    <tr>\n",
       "      <th>76</th>\n",
       "      <td>657790</td>\n",
       "      <td>ind_cno_fin_ult1</td>\n",
       "      <td>1.0</td>\n",
       "      <td>4</td>\n",
       "    </tr>\n",
       "    <tr>\n",
       "      <th>84</th>\n",
       "      <td>657790</td>\n",
       "      <td>ind_ecue_fin_ult1</td>\n",
       "      <td>1.0</td>\n",
       "      <td>12</td>\n",
       "    </tr>\n",
       "    <tr>\n",
       "      <th>87</th>\n",
       "      <td>657790</td>\n",
       "      <td>ind_nom_pens_ult1</td>\n",
       "      <td>1.0</td>\n",
       "      <td>15</td>\n",
       "    </tr>\n",
       "  </tbody>\n",
       "</table>\n",
       "</div>"
      ],
      "text/plain": [
       "    ncodpers            product  owned  product_#\n",
       "26    657788   ind_cco_fin_ult1    1.0          2\n",
       "50    657795   ind_cco_fin_ult1    1.0          2\n",
       "76    657790   ind_cno_fin_ult1    1.0          4\n",
       "84    657790  ind_ecue_fin_ult1    1.0         12\n",
       "87    657790  ind_nom_pens_ult1    1.0         15"
      ]
     },
     "execution_count": 35,
     "metadata": {},
     "output_type": "execute_result"
    }
   ],
   "source": [
    "final_month.head()"
   ]
  },
  {
   "cell_type": "code",
   "execution_count": 36,
   "metadata": {},
   "outputs": [
    {
     "name": "stdout",
     "output_type": "stream",
     "text": [
      "100000\n",
      "200000\n",
      "300000\n",
      "300000\n",
      "400000\n",
      "500000\n",
      "600000\n",
      "600000\n",
      "600000\n",
      "600000\n",
      "600000\n",
      "600000\n"
     ]
    }
   ],
   "source": [
    "#create a dictionary to store each product a customer already has\n",
    "used_recommendation_products = {}\n",
    "target_cols_all = np.array(product_cols)\n",
    "#iterate through used_products and add each one to used_recommendation_products\n",
    "for idx,row_val in final_month.iterrows():\n",
    "    used_recommendation_products.setdefault(row_val['ncodpers'],[]).append(target_cols_all[row_val['product_#']])\n",
    "    if len(used_recommendation_products) % 100000 == 0:\n",
    "        print(len(used_recommendation_products))"
   ]
  },
  {
   "cell_type": "code",
   "execution_count": 37,
   "metadata": {},
   "outputs": [
    {
     "data": {
      "text/plain": [
       "696539"
      ]
     },
     "execution_count": 37,
     "metadata": {},
     "output_type": "execute_result"
    }
   ],
   "source": [
    "len(used_recommendation_products)"
   ]
  },
  {
   "cell_type": "code",
   "execution_count": 38,
   "metadata": {},
   "outputs": [
    {
     "name": "stdout",
     "output_type": "stream",
     "text": [
      "100000\n",
      "200000\n",
      "300000\n",
      "400000\n",
      "500000\n",
      "600000\n",
      "700000\n",
      "800000\n",
      "900000\n"
     ]
    }
   ],
   "source": [
    "#users are the customer codes for the testing data.\n",
    "\n",
    "target_cols_all = np.array(product_cols)\n",
    "final_preds = []\n",
    "#iterate through our model's predictions (pred) and add the 7 most recommended products that the customer does not have.\n",
    "for idx,predicted in enumerate(preds):\n",
    "    ids = users[idx]\n",
    "    top_product = target_cols_all[predicted]\n",
    "    used_products = used_recommendation_products.get(ids,[])\n",
    "    new_top_product = []\n",
    "    for product in top_product:\n",
    "        if product not in used_products:\n",
    "            new_top_product.append(product)\n",
    "        if len(new_top_product) == 7:\n",
    "            break\n",
    "    final_preds.append(' '.join(new_top_product))\n",
    "    if len(final_preds) % 100000 == 0:\n",
    "        print(len(final_preds))"
   ]
  },
  {
   "cell_type": "code",
   "execution_count": 39,
   "metadata": {},
   "outputs": [],
   "source": [
    "submission = pd.DataFrame({'ncodpers':users,'added_products':final_preds})\n",
    "submission.to_csv('submission.csv',index=False)"
   ]
  },
  {
   "cell_type": "code",
   "execution_count": 40,
   "metadata": {},
   "outputs": [
    {
     "name": "stdout",
     "output_type": "stream",
     "text": [
      "0:57:14.488644\n"
     ]
    }
   ],
   "source": [
    "print(datetime.datetime.now()-start_time)"
   ]
  },
  {
   "cell_type": "code",
   "execution_count": 41,
   "metadata": {},
   "outputs": [
    {
     "data": {
      "text/html": [
       "<div>\n",
       "<style scoped>\n",
       "    .dataframe tbody tr th:only-of-type {\n",
       "        vertical-align: middle;\n",
       "    }\n",
       "\n",
       "    .dataframe tbody tr th {\n",
       "        vertical-align: top;\n",
       "    }\n",
       "\n",
       "    .dataframe thead th {\n",
       "        text-align: right;\n",
       "    }\n",
       "</style>\n",
       "<table border=\"1\" class=\"dataframe\">\n",
       "  <thead>\n",
       "    <tr style=\"text-align: right;\">\n",
       "      <th></th>\n",
       "      <th>ncodpers</th>\n",
       "      <th>added_products</th>\n",
       "    </tr>\n",
       "  </thead>\n",
       "  <tbody>\n",
       "    <tr>\n",
       "      <th>0</th>\n",
       "      <td>15889</td>\n",
       "      <td>ind_ctju_fin_ult1 ind_nom_pens_ult1 ind_ctma_f...</td>\n",
       "    </tr>\n",
       "    <tr>\n",
       "      <th>1</th>\n",
       "      <td>1170544</td>\n",
       "      <td>ind_recibo_ult1 ind_tjcr_fin_ult1 ind_nom_pens...</td>\n",
       "    </tr>\n",
       "    <tr>\n",
       "      <th>2</th>\n",
       "      <td>1170545</td>\n",
       "      <td>ind_tjcr_fin_ult1 ind_ctop_fin_ult1 ind_recibo...</td>\n",
       "    </tr>\n",
       "    <tr>\n",
       "      <th>3</th>\n",
       "      <td>1170547</td>\n",
       "      <td>ind_recibo_ult1 ind_ctma_fin_ult1 ind_nomina_u...</td>\n",
       "    </tr>\n",
       "    <tr>\n",
       "      <th>4</th>\n",
       "      <td>1170548</td>\n",
       "      <td>ind_ecue_fin_ult1 ind_recibo_ult1 ind_cno_fin_...</td>\n",
       "    </tr>\n",
       "    <tr>\n",
       "      <th>5</th>\n",
       "      <td>1170550</td>\n",
       "      <td>ind_recibo_ult1 ind_ecue_fin_ult1 ind_tjcr_fin...</td>\n",
       "    </tr>\n",
       "    <tr>\n",
       "      <th>6</th>\n",
       "      <td>1170552</td>\n",
       "      <td>ind_nom_pens_ult1 ind_nomina_ult1 ind_tjcr_fin...</td>\n",
       "    </tr>\n",
       "    <tr>\n",
       "      <th>7</th>\n",
       "      <td>1170553</td>\n",
       "      <td>ind_recibo_ult1 ind_ecue_fin_ult1 ind_nom_pens...</td>\n",
       "    </tr>\n",
       "    <tr>\n",
       "      <th>8</th>\n",
       "      <td>1170555</td>\n",
       "      <td>ind_recibo_ult1 ind_ecue_fin_ult1 ind_tjcr_fin...</td>\n",
       "    </tr>\n",
       "    <tr>\n",
       "      <th>9</th>\n",
       "      <td>1170557</td>\n",
       "      <td>ind_recibo_ult1 ind_ecue_fin_ult1 ind_nomina_u...</td>\n",
       "    </tr>\n",
       "  </tbody>\n",
       "</table>\n",
       "</div>"
      ],
      "text/plain": [
       "   ncodpers                                     added_products\n",
       "0     15889  ind_ctju_fin_ult1 ind_nom_pens_ult1 ind_ctma_f...\n",
       "1   1170544  ind_recibo_ult1 ind_tjcr_fin_ult1 ind_nom_pens...\n",
       "2   1170545  ind_tjcr_fin_ult1 ind_ctop_fin_ult1 ind_recibo...\n",
       "3   1170547  ind_recibo_ult1 ind_ctma_fin_ult1 ind_nomina_u...\n",
       "4   1170548  ind_ecue_fin_ult1 ind_recibo_ult1 ind_cno_fin_...\n",
       "5   1170550  ind_recibo_ult1 ind_ecue_fin_ult1 ind_tjcr_fin...\n",
       "6   1170552  ind_nom_pens_ult1 ind_nomina_ult1 ind_tjcr_fin...\n",
       "7   1170553  ind_recibo_ult1 ind_ecue_fin_ult1 ind_nom_pens...\n",
       "8   1170555  ind_recibo_ult1 ind_ecue_fin_ult1 ind_tjcr_fin...\n",
       "9   1170557  ind_recibo_ult1 ind_ecue_fin_ult1 ind_nomina_u..."
      ]
     },
     "execution_count": 41,
     "metadata": {},
     "output_type": "execute_result"
    }
   ],
   "source": [
    "submission.head(10)"
   ]
  },
  {
   "cell_type": "code",
   "execution_count": 42,
   "metadata": {},
   "outputs": [
    {
     "name": "stdout",
     "output_type": "stream",
     "text": [
      "929615\n",
      "929615\n"
     ]
    }
   ],
   "source": [
    "print(len(submission))\n",
    "print(len(test))"
   ]
  },
  {
   "cell_type": "code",
   "execution_count": null,
   "metadata": {},
   "outputs": [],
   "source": []
  }
 ],
 "metadata": {
  "kernelspec": {
   "display_name": "Python 3",
   "language": "python",
   "name": "python3"
  },
  "language_info": {
   "codemirror_mode": {
    "name": "ipython",
    "version": 3
   },
   "file_extension": ".py",
   "mimetype": "text/x-python",
   "name": "python",
   "nbconvert_exporter": "python",
   "pygments_lexer": "ipython3",
   "version": "3.6.4"
  }
 },
 "nbformat": 4,
 "nbformat_minor": 2
}
