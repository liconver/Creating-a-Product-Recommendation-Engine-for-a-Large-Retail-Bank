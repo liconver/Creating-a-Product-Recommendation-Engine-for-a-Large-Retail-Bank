{
 "cells": [
  {
   "cell_type": "code",
   "execution_count": 1,
   "metadata": {},
   "outputs": [],
   "source": [
    "import numpy as np\n",
    "import pandas as pd"
   ]
  },
  {
   "cell_type": "code",
   "execution_count": 2,
   "metadata": {},
   "outputs": [
    {
     "name": "stderr",
     "output_type": "stream",
     "text": [
      "C:\\Users\\liamc\\Anaconda3\\lib\\site-packages\\IPython\\core\\interactiveshell.py:2728: DtypeWarning: Columns (5,8,11,15) have mixed types. Specify dtype option on import or set low_memory=False.\n",
      "  interactivity=interactivity, compiler=compiler, result=result)\n"
     ]
    }
   ],
   "source": [
    "train = pd.read_csv(r'E:\\Santander Recommendation\\train_ver2.csv')"
   ]
  },
  {
   "cell_type": "code",
   "execution_count": 3,
   "metadata": {},
   "outputs": [],
   "source": [
    "train = train.loc[train['fecha_dato']=='2016-05-28']"
   ]
  },
  {
   "cell_type": "code",
   "execution_count": 4,
   "metadata": {},
   "outputs": [],
   "source": [
    "product_cols = ['ind_ahor_fin_ult1','ind_aval_fin_ult1','ind_cco_fin_ult1','ind_cder_fin_ult1',\n",
    "                'ind_cno_fin_ult1','ind_ctju_fin_ult1','ind_ctma_fin_ult1','ind_ctop_fin_ult1',\n",
    "                'ind_ctpp_fin_ult1','ind_deco_fin_ult1','ind_dela_fin_ult1','ind_deme_fin_ult1',\n",
    "                'ind_ecue_fin_ult1','ind_fond_fin_ult1','ind_hip_fin_ult1','ind_nom_pens_ult1',\n",
    "                'ind_nomina_ult1','ind_plan_fin_ult1','ind_pres_fin_ult1','ind_reca_fin_ult1',\n",
    "                'ind_recibo_ult1','ind_tjcr_fin_ult1','ind_valo_fin_ult1','ind_viv_fin_ult1']"
   ]
  },
  {
   "cell_type": "code",
   "execution_count": 5,
   "metadata": {},
   "outputs": [
    {
     "name": "stderr",
     "output_type": "stream",
     "text": [
      "C:\\Users\\liamc\\Anaconda3\\lib\\site-packages\\lightfm\\_lightfm_fast.py:9: UserWarning: LightFM was compiled without OpenMP support. Only a single thread will be used.\n",
      "  warnings.warn('LightFM was compiled without OpenMP support. '\n"
     ]
    }
   ],
   "source": [
    "from lightfm.data import Dataset"
   ]
  },
  {
   "cell_type": "code",
   "execution_count": 6,
   "metadata": {},
   "outputs": [],
   "source": [
    "dataset = Dataset()\n",
    "dataset.fit(train['ncodpers'],product_cols)"
   ]
  },
  {
   "cell_type": "code",
   "execution_count": 7,
   "metadata": {},
   "outputs": [
    {
     "name": "stdout",
     "output_type": "stream",
     "text": [
      "Num users: 931453, num_items 24.\n"
     ]
    }
   ],
   "source": [
    "num_users, num_items = dataset.interactions_shape()\n",
    "print('Num users: {}, num_items {}.'.format(num_users, num_items))"
   ]
  },
  {
   "cell_type": "code",
   "execution_count": 8,
   "metadata": {},
   "outputs": [],
   "source": [
    "labels = train[product_cols]"
   ]
  },
  {
   "cell_type": "code",
   "execution_count": 9,
   "metadata": {},
   "outputs": [
    {
     "name": "stderr",
     "output_type": "stream",
     "text": [
      "C:\\Users\\liamc\\Anaconda3\\lib\\site-packages\\ipykernel_launcher.py:1: SettingWithCopyWarning: \n",
      "A value is trying to be set on a copy of a slice from a DataFrame.\n",
      "Try using .loc[row_indexer,col_indexer] = value instead\n",
      "\n",
      "See the caveats in the documentation: http://pandas.pydata.org/pandas-docs/stable/indexing.html#indexing-view-versus-copy\n",
      "  \"\"\"Entry point for launching an IPython kernel.\n"
     ]
    }
   ],
   "source": [
    "labels['ncodpers'] = train.ncodpers"
   ]
  },
  {
   "cell_type": "code",
   "execution_count": 10,
   "metadata": {},
   "outputs": [],
   "source": [
    "labels = labels.set_index(\"ncodpers\")"
   ]
  },
  {
   "cell_type": "code",
   "execution_count": 11,
   "metadata": {},
   "outputs": [],
   "source": [
    "stacked_labels = labels.stack()"
   ]
  },
  {
   "cell_type": "code",
   "execution_count": 12,
   "metadata": {},
   "outputs": [],
   "source": [
    "filtered_labels = stacked_labels.reset_index()"
   ]
  },
  {
   "cell_type": "code",
   "execution_count": 13,
   "metadata": {},
   "outputs": [],
   "source": [
    "filtered_labels.columns = [\"ncodpers\", \"product\", \"interaction\"]"
   ]
  },
  {
   "cell_type": "code",
   "execution_count": 14,
   "metadata": {},
   "outputs": [],
   "source": [
    "interactionsdf = filtered_labels.loc[filtered_labels['interaction']==1]"
   ]
  },
  {
   "cell_type": "code",
   "execution_count": 15,
   "metadata": {},
   "outputs": [],
   "source": [
    "(interactions, weights) = dataset.build_interactions((interactionsdf.iloc[x,0], interactionsdf.iloc[x,1])\n",
    "                                                     for x in range(len(interactionsdf)))"
   ]
  },
  {
   "cell_type": "code",
   "execution_count": 16,
   "metadata": {},
   "outputs": [
    {
     "data": {
      "text/plain": [
       "1240538"
      ]
     },
     "execution_count": 16,
     "metadata": {},
     "output_type": "execute_result"
    }
   ],
   "source": [
    "len(interactionsdf)"
   ]
  },
  {
   "cell_type": "code",
   "execution_count": 17,
   "metadata": {},
   "outputs": [
    {
     "name": "stdout",
     "output_type": "stream",
     "text": [
      "<931453x24 sparse matrix of type '<class 'numpy.int32'>'\n",
      "\twith 1240538 stored elements in COOrdinate format>\n"
     ]
    }
   ],
   "source": [
    "print(repr(interactions))"
   ]
  },
  {
   "cell_type": "code",
   "execution_count": 18,
   "metadata": {},
   "outputs": [],
   "source": [
    "#do some data cleaning before adding in user features\n",
    "\n",
    "dirtyrows = train[train.ind_empleado.isnull()].index\n",
    "\n",
    "train = train.drop(dirtyrows, axis = 0)\n",
    "\n",
    "train.ind_empleado = train.ind_empleado.fillna('N')\n",
    "\n",
    "train.canal_entrada = train.canal_entrada.fillna(\"Unknown\")\n",
    "\n",
    "train = train.drop(\"cod_prov\", 1)\n",
    "\n",
    "train.conyuemp = train.conyuemp.fillna(\"Unknown\")\n",
    "\n",
    "train.loc[train.indrel_1mes == '1', 'indrel_1mes'] = 'Primary'\n",
    "train.loc[train.indrel_1mes == '1.0', 'indrel_1mes'] = 'Primary'\n",
    "train.loc[train.indrel_1mes == 1, 'indrel_1mes'] = 'Primary'\n",
    "train.loc[train.indrel_1mes == 1.0, 'indrel_1mes'] = 'Primary'\n",
    "train.loc[train.indrel_1mes == '2', 'indrel_1mes'] = 'Co-owner'\n",
    "train.loc[train.indrel_1mes == '2.0', 'indrel_1mes'] = 'Co-owner'\n",
    "train.loc[train.indrel_1mes == 2, 'indrel_1mes'] = 'Co-owner'\n",
    "train.loc[train.indrel_1mes == 2.0, 'indrel_1mes'] = 'Co-owner'\n",
    "train.loc[train.indrel_1mes == '3', 'indrel_1mes'] = 'Former Primary'\n",
    "train.loc[train.indrel_1mes == '3.0', 'indrel_1mes'] = 'Former Primary'\n",
    "train.loc[train.indrel_1mes == 3, 'indrel_1mes'] = 'Former Primary'\n",
    "train.loc[train.indrel_1mes == 3.0, 'indrel_1mes'] = 'Former Primary'\n",
    "train.loc[train.indrel_1mes == '4', 'indrel_1mes'] = 'Former Co-owner'\n",
    "train.loc[train.indrel_1mes == '4.0', 'indrel_1mes'] = 'Former Co-owner'\n",
    "train.loc[train.indrel_1mes == 4, 'indrel_1mes'] = 'Former Co-owner'\n",
    "train.loc[train.indrel_1mes == 4.0, 'indrel_1mes'] = 'Former Co-owner'\n",
    "\n",
    "train.indrel_1mes = train.indrel_1mes.fillna('Primary')\n",
    "\n",
    "train.nomprov = train.nomprov.fillna(\"MADRID\")"
   ]
  },
  {
   "cell_type": "code",
   "execution_count": 19,
   "metadata": {},
   "outputs": [],
   "source": [
    "#rest of feature cleaning\n",
    "train.renta.fillna(0)\n",
    "train.renta = train.renta.astype(float)\n",
    "train.loc[train.renta == 0, 'renta'] = train.renta\n",
    "train.loc[train.renta.isnull(), \"renta\"] = train.groupby('nomprov').renta.transform('median')\n",
    "\n",
    "train.segmento = train[train.renta <= 98000].segmento.fillna(\"03 - UNIVERSITARIO\")\n",
    "train.segmento = train[train.renta <= 125500].segmento.fillna(\"02 - PARTICULARES\")\n",
    "\n",
    "train.segmento = train.segmento.fillna(\"01 - TOP\")\n",
    "\n",
    "train.sexo = train.sexo.fillna(\"V\")\n",
    "\n",
    "train.tiprel_1mes = train.tiprel_1mes.fillna('I')\n",
    "\n",
    "train.ind_nomina_ult1 = train.ind_nomina_ult1.fillna(0.0)\n",
    "train.ind_nom_pens_ult1 = train.ind_nom_pens_ult1.fillna(0.0)\n",
    "\n",
    "train.loc[train.antiguedad == -999999, 'antiguedad'] = train.antiguedad.median()\n",
    "train.loc[train.indrel == 99.0, \"indrel\"] = 0.0"
   ]
  },
  {
   "cell_type": "code",
   "execution_count": 20,
   "metadata": {},
   "outputs": [],
   "source": [
    "train.drop('ult_fec_cli_1t',axis=1,inplace=True)"
   ]
  },
  {
   "cell_type": "code",
   "execution_count": 21,
   "metadata": {},
   "outputs": [],
   "source": [
    "feature_cols = ['ind_empleado', 'pais_residencia', 'sexo',\n",
    "       'age', 'fecha_alta', 'ind_nuevo', 'antiguedad', 'indrel', 'indrel_1mes',\n",
    "       'tiprel_1mes', 'indresi', 'indext', 'conyuemp', 'canal_entrada',\n",
    "       'indfall', 'tipodom', 'nomprov', 'ind_actividad_cliente', 'renta',\n",
    "       'segmento']"
   ]
  },
  {
   "cell_type": "code",
   "execution_count": 22,
   "metadata": {},
   "outputs": [],
   "source": [
    "features = train[feature_cols]"
   ]
  },
  {
   "cell_type": "code",
   "execution_count": 23,
   "metadata": {},
   "outputs": [
    {
     "name": "stderr",
     "output_type": "stream",
     "text": [
      "C:\\Users\\liamc\\Anaconda3\\lib\\site-packages\\ipykernel_launcher.py:1: SettingWithCopyWarning: \n",
      "A value is trying to be set on a copy of a slice from a DataFrame.\n",
      "Try using .loc[row_indexer,col_indexer] = value instead\n",
      "\n",
      "See the caveats in the documentation: http://pandas.pydata.org/pandas-docs/stable/indexing.html#indexing-view-versus-copy\n",
      "  \"\"\"Entry point for launching an IPython kernel.\n"
     ]
    }
   ],
   "source": [
    "features['ncodpers'] = train.ncodpers"
   ]
  },
  {
   "cell_type": "code",
   "execution_count": 24,
   "metadata": {},
   "outputs": [],
   "source": [
    "features = features.set_index(\"ncodpers\")"
   ]
  },
  {
   "cell_type": "code",
   "execution_count": 25,
   "metadata": {},
   "outputs": [],
   "source": [
    "stacked_features = features.stack()"
   ]
  },
  {
   "cell_type": "code",
   "execution_count": 26,
   "metadata": {},
   "outputs": [],
   "source": [
    "features = stacked_features.reset_index()"
   ]
  },
  {
   "cell_type": "code",
   "execution_count": 27,
   "metadata": {},
   "outputs": [],
   "source": [
    "features.columns = [\"ncodpers\", \"feature_name\", \"feature\"]"
   ]
  },
  {
   "cell_type": "code",
   "execution_count": 28,
   "metadata": {},
   "outputs": [
    {
     "data": {
      "text/plain": [
       "ncodpers                 \n",
       "657640    ind_empleado                N\n",
       "          pais_residencia            ES\n",
       "          sexo                        H\n",
       "          age                        68\n",
       "          fecha_alta         2006-11-17\n",
       "dtype: object"
      ]
     },
     "execution_count": 28,
     "metadata": {},
     "output_type": "execute_result"
    }
   ],
   "source": [
    "stacked_features.head()"
   ]
  },
  {
   "cell_type": "code",
   "execution_count": 29,
   "metadata": {},
   "outputs": [],
   "source": [
    "import json"
   ]
  },
  {
   "cell_type": "code",
   "execution_count": 30,
   "metadata": {},
   "outputs": [],
   "source": [
    "#features_json = features.to_json()"
   ]
  },
  {
   "cell_type": "code",
   "execution_count": 40,
   "metadata": {},
   "outputs": [],
   "source": [
    "stacked_json = stacked_features.to_json(orient='table')"
   ]
  },
  {
   "cell_type": "code",
   "execution_count": 41,
   "metadata": {},
   "outputs": [
    {
     "data": {
      "text/plain": [
       "'0.23.4'"
      ]
     },
     "execution_count": 41,
     "metadata": {},
     "output_type": "execute_result"
    }
   ],
   "source": [
    "pd.__version__"
   ]
  },
  {
   "cell_type": "code",
   "execution_count": 42,
   "metadata": {},
   "outputs": [
    {
     "data": {
      "text/plain": [
       "str"
      ]
     },
     "execution_count": 42,
     "metadata": {},
     "output_type": "execute_result"
    }
   ],
   "source": [
    "type(stacked_json)"
   ]
  },
  {
   "cell_type": "code",
   "execution_count": 43,
   "metadata": {},
   "outputs": [],
   "source": [
    "features_json = json.loads(stacked_json)"
   ]
  },
  {
   "cell_type": "code",
   "execution_count": null,
   "metadata": {},
   "outputs": [],
   "source": [
    "features_json =[]"
   ]
  },
  {
   "cell_type": "code",
   "execution_count": null,
   "metadata": {},
   "outputs": [],
   "source": [
    "features_json['657640']"
   ]
  },
  {
   "cell_type": "code",
   "execution_count": 45,
   "metadata": {},
   "outputs": [],
   "source": [
    "from itertools import islice"
   ]
  },
  {
   "cell_type": "code",
   "execution_count": 46,
   "metadata": {},
   "outputs": [
    {
     "name": "stdout",
     "output_type": "stream",
     "text": [
      "{\n",
      "    \"ncodpers\": 657640,\n",
      "    \"level_1\": \"ind_empleado\",\n",
      "    \"values\": \"N\"\n",
      "}\n",
      "{\n",
      "    \"ncodpers\": 657640,\n",
      "    \"level_1\": \"pais_residencia\",\n",
      "    \"values\": \"ES\"\n",
      "}\n",
      "{\n",
      "    \"ncodpers\": 657640,\n",
      "    \"level_1\": \"sexo\",\n",
      "    \"values\": \"H\"\n",
      "}\n",
      "{\n",
      "    \"ncodpers\": 657640,\n",
      "    \"level_1\": \"age\",\n",
      "    \"values\": 68\n",
      "}\n",
      "{\n",
      "    \"ncodpers\": 657640,\n",
      "    \"level_1\": \"fecha_alta\",\n",
      "    \"values\": \"2006-11-17\"\n",
      "}\n",
      "{\n",
      "    \"ncodpers\": 657640,\n",
      "    \"level_1\": \"ind_nuevo\",\n",
      "    \"values\": 0.0\n",
      "}\n",
      "{\n",
      "    \"ncodpers\": 657640,\n",
      "    \"level_1\": \"antiguedad\",\n",
      "    \"values\": 114\n",
      "}\n",
      "{\n",
      "    \"ncodpers\": 657640,\n",
      "    \"level_1\": \"indrel\",\n",
      "    \"values\": 1.0\n",
      "}\n",
      "{\n",
      "    \"ncodpers\": 657640,\n",
      "    \"level_1\": \"indrel_1mes\",\n",
      "    \"values\": \"Primary\"\n",
      "}\n",
      "{\n",
      "    \"ncodpers\": 657640,\n",
      "    \"level_1\": \"tiprel_1mes\",\n",
      "    \"values\": \"I\"\n",
      "}\n",
      "{\n",
      "    \"ncodpers\": 657640,\n",
      "    \"level_1\": \"indresi\",\n",
      "    \"values\": \"S\"\n",
      "}\n",
      "{\n",
      "    \"ncodpers\": 657640,\n",
      "    \"level_1\": \"indext\",\n",
      "    \"values\": \"N\"\n",
      "}\n",
      "{\n",
      "    \"ncodpers\": 657640,\n",
      "    \"level_1\": \"conyuemp\",\n",
      "    \"values\": \"Unknown\"\n",
      "}\n",
      "{\n",
      "    \"ncodpers\": 657640,\n",
      "    \"level_1\": \"canal_entrada\",\n",
      "    \"values\": \"KAQ\"\n",
      "}\n",
      "{\n",
      "    \"ncodpers\": 657640,\n",
      "    \"level_1\": \"indfall\",\n",
      "    \"values\": \"N\"\n",
      "}\n",
      "{\n",
      "    \"ncodpers\": 657640,\n",
      "    \"level_1\": \"tipodom\",\n",
      "    \"values\": 1.0\n",
      "}\n",
      "{\n",
      "    \"ncodpers\": 657640,\n",
      "    \"level_1\": \"nomprov\",\n",
      "    \"values\": \"MADRID\"\n",
      "}\n",
      "{\n",
      "    \"ncodpers\": 657640,\n",
      "    \"level_1\": \"ind_actividad_cliente\",\n",
      "    \"values\": 0.0\n",
      "}\n",
      "{\n",
      "    \"ncodpers\": 657640,\n",
      "    \"level_1\": \"renta\",\n",
      "    \"values\": 147347.97\n",
      "}\n",
      "{\n",
      "    \"ncodpers\": 657640,\n",
      "    \"level_1\": \"segmento\",\n",
      "    \"values\": \"01 - TOP\"\n",
      "}\n"
     ]
    }
   ],
   "source": [
    "for line in islice(features_json['data'], 20):\n",
    "    print(json.dumps(line, indent=4))"
   ]
  },
  {
   "cell_type": "code",
   "execution_count": null,
   "metadata": {},
   "outputs": [],
   "source": [
    "features_json['schema']"
   ]
  },
  {
   "cell_type": "code",
   "execution_count": null,
   "metadata": {},
   "outputs": [],
   "source": [
    "features_json['ncodpers']"
   ]
  },
  {
   "cell_type": "code",
   "execution_count": null,
   "metadata": {},
   "outputs": [],
   "source": [
    "features_json"
   ]
  },
  {
   "cell_type": "code",
   "execution_count": null,
   "metadata": {},
   "outputs": [],
   "source": [
    "features_json['data'][0]['ncodpers']"
   ]
  },
  {
   "cell_type": "code",
   "execution_count": null,
   "metadata": {},
   "outputs": [],
   "source": [
    "features.loc[(657640,'age')]"
   ]
  },
  {
   "cell_type": "code",
   "execution_count": null,
   "metadata": {},
   "outputs": [],
   "source": [
    "user_features = dataset.build_user_features((features_json['data'][x][ncodpers], features_json['data'][x][1])\n",
    "                                                     for x in range(len(features)))"
   ]
  },
  {
   "cell_type": "code",
   "execution_count": null,
   "metadata": {},
   "outputs": [],
   "source": [
    "from lightfm import LightFM\n",
    "\n",
    "model = LightFM(no_components=20,learning_schedule='adagrad',loss='warp')"
   ]
  },
  {
   "cell_type": "code",
   "execution_count": null,
   "metadata": {},
   "outputs": [],
   "source": [
    "model.fit(interactions,epochs=40,verbose=True)"
   ]
  },
  {
   "cell_type": "code",
   "execution_count": null,
   "metadata": {},
   "outputs": [],
   "source": [
    "test = pd.read_csv(r'E:\\Santander Recommendation\\test_ver2.csv')"
   ]
  },
  {
   "cell_type": "code",
   "execution_count": null,
   "metadata": {},
   "outputs": [],
   "source": [
    "users = test.ncodpers.values"
   ]
  },
  {
   "cell_type": "code",
   "execution_count": null,
   "metadata": {},
   "outputs": [],
   "source": [
    "users"
   ]
  },
  {
   "cell_type": "code",
   "execution_count": null,
   "metadata": {},
   "outputs": [],
   "source": [
    "n_users, n_items = dataset.interactions_shape()"
   ]
  },
  {
   "cell_type": "code",
   "execution_count": null,
   "metadata": {},
   "outputs": [],
   "source": [
    "item_ids = np.arange(n_items)\n",
    "model.predict(0,item_ids)"
   ]
  },
  {
   "cell_type": "code",
   "execution_count": null,
   "metadata": {},
   "outputs": [],
   "source": [
    "dataset.mapping()[1][1170544]"
   ]
  },
  {
   "cell_type": "code",
   "execution_count": null,
   "metadata": {},
   "outputs": [],
   "source": [
    "preds = []\n",
    "item_ids = np.arange(n_items)\n",
    "for user_id in users:\n",
    "    emb_id = dataset.mapping()[1][user_id]\n",
    "    scores = model.predict(emb_id,item_ids)\n",
    "    preds.append(scores)\n",
    "    scores = []"
   ]
  },
  {
   "cell_type": "code",
   "execution_count": null,
   "metadata": {},
   "outputs": [],
   "source": [
    "preds =np.array([np.array(predi) for predi in preds])"
   ]
  },
  {
   "cell_type": "code",
   "execution_count": null,
   "metadata": {},
   "outputs": [],
   "source": [
    "preds = np.argsort(preds, axis=1)\n",
    "preds = np.fliplr(preds)"
   ]
  },
  {
   "cell_type": "code",
   "execution_count": null,
   "metadata": {},
   "outputs": [],
   "source": [
    "preds[0]"
   ]
  },
  {
   "cell_type": "code",
   "execution_count": null,
   "metadata": {},
   "outputs": [],
   "source": [
    "final_month_training_cols = train\n",
    "final_month_training_cols = final_month_training_cols.drop(product_cols, axis=1)"
   ]
  },
  {
   "cell_type": "code",
   "execution_count": null,
   "metadata": {},
   "outputs": [],
   "source": [
    "#Get the target columns\n",
    "labels_final_month = train[product_cols]\n",
    "\n",
    "#Add ncodpers to the dataframe\n",
    "labels_final_month['ncodpers'] = train.ncodpers\n",
    "\n",
    "labels_final_month = labels_final_month.set_index(\"ncodpers\")\n",
    "\n",
    "stacked_labels_final_month = labels_final_month.stack()\n",
    "\n",
    "filtered_labels_final_month = stacked_labels_final_month.reset_index()\n",
    "\n",
    "filtered_labels_final_month.columns = [\"ncodpers\", \"product\", \"newly_added\"]\n",
    "\n",
    "#Only select the rows where there is a new product.\n",
    "filtered_labels_final_month = filtered_labels_final_month[filtered_labels_final_month[\"newly_added\"] == 1]\n",
    "\n",
    "#Merge with the training features.\n",
    "multiclass_final_month = filtered_labels_final_month.merge(final_month_training_cols, on=\"ncodpers\", how=\"left\")\n",
    "\n",
    "final_month = multiclass_final_month.drop_duplicates(multiclass_final_month, keep='last')\n",
    "\n",
    "labels_final_month_final = final_month['product']\n",
    "\n",
    "final_month_ncodpers = final_month.ncodpers\n",
    "#Remove the columns that are not needed to train the model.\n",
    "final_month = final_month.drop(['ncodpers','newly_added','product'], axis = 1)"
   ]
  },
  {
   "cell_type": "code",
   "execution_count": null,
   "metadata": {},
   "outputs": [],
   "source": [
    "labels_final_month_final_cat = labels_final_month_final.astype('category').cat.codes"
   ]
  },
  {
   "cell_type": "code",
   "execution_count": null,
   "metadata": {},
   "outputs": [],
   "source": [
    "used_products = pd.DataFrame()\n",
    "used_products['product'] = labels_final_month_final_cat\n",
    "used_products['ncodpers'] = final_month_ncodpers\n",
    "used_products = used_products.drop_duplicates(keep = 'last')"
   ]
  },
  {
   "cell_type": "code",
   "execution_count": null,
   "metadata": {},
   "outputs": [],
   "source": [
    "#create a dictionary to store each product a customer already has\n",
    "used_recommendation_products = {}\n",
    "product_cols = np.array(product_cols)\n",
    "#iterate through used_products and add each one to used_recommendation_products\n",
    "for idx,row_val in used_products.iterrows():\n",
    "    used_recommendation_products.setdefault(row_val['ncodpers'],[]).append(product_cols[row_val['product']])\n",
    "    if len(used_recommendation_products) % 100000 == 0:\n",
    "        print(len(used_recommendation_products))"
   ]
  },
  {
   "cell_type": "code",
   "execution_count": null,
   "metadata": {},
   "outputs": [],
   "source": [
    "#test_ids are the customer codes for the testing data.\n",
    "test_ids = np.array(pd.read_csv(r'E:\\Santander Recommendation\\test_ver2.csv',usecols=['ncodpers'])['ncodpers'])\n",
    "target_cols_all = np.array(product_cols)\n",
    "final_preds = []\n",
    "#iterate through our model's predictions (pred) and add the 7 most recommended products that the customer does not have.\n",
    "for idx,predicted in enumerate(preds):\n",
    "    ids = test_ids[idx]\n",
    "    top_product = target_cols_all[predicted]\n",
    "    used_products = used_recommendation_products.get(ids,[])\n",
    "    new_top_product = []\n",
    "    for product in top_product:\n",
    "        if product not in used_products:\n",
    "            new_top_product.append(product)\n",
    "        if len(new_top_product) == 7:\n",
    "            break\n",
    "    final_preds.append(' '.join(new_top_product))\n",
    "    if len(final_preds) % 100000 == 0:\n",
    "        print(len(final_preds))"
   ]
  },
  {
   "cell_type": "code",
   "execution_count": null,
   "metadata": {},
   "outputs": [],
   "source": [
    "submission = pd.DataFrame({'ncodpers':test_ids,'added_products':final_preds})\n",
    "submission.to_csv('submission.csv',index=False)"
   ]
  },
  {
   "cell_type": "code",
   "execution_count": null,
   "metadata": {},
   "outputs": [],
   "source": [
    "submission.shape"
   ]
  },
  {
   "cell_type": "code",
   "execution_count": null,
   "metadata": {},
   "outputs": [],
   "source": [
    "submission.head()"
   ]
  }
 ],
 "metadata": {
  "kernelspec": {
   "display_name": "Python 3",
   "language": "python",
   "name": "python3"
  },
  "language_info": {
   "codemirror_mode": {
    "name": "ipython",
    "version": 3
   },
   "file_extension": ".py",
   "mimetype": "text/x-python",
   "name": "python",
   "nbconvert_exporter": "python",
   "pygments_lexer": "ipython3",
   "version": "3.6.4"
  }
 },
 "nbformat": 4,
 "nbformat_minor": 2
}
