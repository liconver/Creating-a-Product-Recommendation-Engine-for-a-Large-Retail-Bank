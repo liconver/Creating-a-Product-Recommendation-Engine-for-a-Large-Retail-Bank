{
 "cells": [
  {
   "cell_type": "code",
   "execution_count": null,
   "metadata": {},
   "outputs": [],
   "source": [
    "import pandas as pd\n",
    "import numpy as np"
   ]
  },
  {
   "cell_type": "code",
   "execution_count": null,
   "metadata": {},
   "outputs": [],
   "source": [
    "train = pd.read_csv(r'E:\\Santander Recommendation\\train_ver2.csv')\n",
    "test = pd.read_csv(r'E:\\Santander Recommendation\\test_ver2.csv')"
   ]
  },
  {
   "cell_type": "code",
   "execution_count": null,
   "metadata": {},
   "outputs": [],
   "source": [
    "train.fecha_dato = pd.to_datetime(train.fecha_dato, format=\"%Y-%m-%d\")\n",
    "train.fecha_alta = pd.to_datetime(train.fecha_alta, format=\"%Y-%m-%d\")\n",
    "test.fecha_dato = pd.to_datetime(test.fecha_dato, format=\"%Y-%m-%d\")\n",
    "test.fecha_alta = pd.to_datetime(test.fecha_alta, format=\"%Y-%m-%d\")"
   ]
  },
  {
   "cell_type": "code",
   "execution_count": null,
   "metadata": {},
   "outputs": [],
   "source": [
    "months = train.fecha_dato.unique()"
   ]
  },
  {
   "cell_type": "code",
   "execution_count": null,
   "metadata": {},
   "outputs": [],
   "source": [
    "train_wnewproducts = pd.DataFrame()"
   ]
  },
  {
   "cell_type": "code",
   "execution_count": null,
   "metadata": {},
   "outputs": [],
   "source": [
    "i = 1\n",
    "while i < len(months):\n",
    "    #select sequential months\n",
    "    new_month = train[train.fecha_dato == months[i]]\n",
    "    prev_month = train[train.fecha_dato == months[i-1]]\n",
    "    #select only customers present in both month\n",
    "    new_month = new_month.loc[new_month['ncodpers'].isin(prev_month.ncodpers)]\n",
    "    prev_month = prev_month.loc[prev_month['ncodpers'].isin(new_month.ncodpers)]\n",
    "    #sort by customer id so both months will be ordered the same\n",
    "    new_month.sort_values(by = 'ncodpers', inplace = True)\n",
    "    prev_month.sort_values(by = 'ncodpers', inplace = True)\n",
    "    #pick out product columns\n",
    "    product_cols = ['ind_ahor_fin_ult1','ind_aval_fin_ult1','ind_cco_fin_ult1','ind_cder_fin_ult1',\n",
    "                'ind_cno_fin_ult1','ind_ctju_fin_ult1','ind_ctma_fin_ult1','ind_ctop_fin_ult1',\n",
    "                'ind_ctpp_fin_ult1','ind_deco_fin_ult1','ind_dela_fin_ult1','ind_deme_fin_ult1',\n",
    "                'ind_ecue_fin_ult1','ind_fond_fin_ult1','ind_hip_fin_ult1','ind_nom_pens_ult1',\n",
    "                'ind_nomina_ult1','ind_plan_fin_ult1','ind_pres_fin_ult1','ind_reca_fin_ult1',\n",
    "                'ind_recibo_ult1','ind_tjcr_fin_ult1','ind_valo_fin_ult1','ind_viv_fin_ult1']\n",
    "    #new dataframe with just product\n",
    "    new_month_products = new_month[product_cols]\n",
    "    #add in the corresponding customer ids\n",
    "    new_month_products['ncodpers'] = new_month.ncodpers\n",
    "    #get rid of index\n",
    "    new_month_products.reset_index(drop=True,inplace=True)\n",
    "    #now repeat for the previous month but make ids zero so a subtraction works \n",
    "    prev_month_products = prev_month[product_cols]\n",
    "    prev_month_products['ncodpers'] = prev_month.ncodpers\n",
    "    prev_month_products.ncodpers = 0\n",
    "    prev_month_products.reset_index(drop=True,inplace=True)\n",
    "    #subtract to find the new products\n",
    "    new_products = new_month_products.subtract(prev_month_products)\n",
    "    #remove products that the customer dropped fill NA's\n",
    "    new_products[new_products < 0] = 0\n",
    "    new_products = new_products.fillna(0)\n",
    "    #merge the new products features with the month data\n",
    "    new_products = new_products.merge(new_month.iloc[:,0:24], on='ncodpers')\n",
    "    #add the interated months into training dataframe\n",
    "    train_wnewproducts = pd.concat([train_wnewproducts,new_products], axis = 0)\n",
    "    print(\"progress = \", float(i/len(months)))\n",
    "    i += 1"
   ]
  },
  {
   "cell_type": "code",
   "execution_count": null,
   "metadata": {},
   "outputs": [],
   "source": [
    "train_wnewproducts = train_wnewproducts.loc[(train_wnewproducts.iloc[:,0:24] != 0).any(axis=1)]"
   ]
  },
  {
   "cell_type": "code",
   "execution_count": null,
   "metadata": {},
   "outputs": [],
   "source": [
    "final_month = train[train.fecha_dato == '2016-05-28']"
   ]
  },
  {
   "cell_type": "code",
   "execution_count": null,
   "metadata": {},
   "outputs": [],
   "source": [
    "df = pd.concat([train_wnewproducts,test], axis = 0, ignore_index = True)\n",
    "train = []"
   ]
  },
  {
   "cell_type": "code",
   "execution_count": null,
   "metadata": {},
   "outputs": [],
   "source": [
    "dirtyrows = df[df.ind_empleado.isnull()].index\n",
    "\n",
    "df = df.drop(dirtyrows, axis = 0)\n",
    "\n",
    "df.canal_entrada = df.canal_entrada.fillna(\"Unknown\")\n",
    "\n",
    "df = df.drop(\"cod_prov\", 1)\n",
    "\n",
    "df.conyuemp = df.conyuemp.fillna(\"Unknown\")\n",
    "\n",
    "df.loc[df.indrel_1mes == '1', 'indrel_1mes'] = 'Primary'\n",
    "df.loc[df.indrel_1mes == '1.0', 'indrel_1mes'] = 'Primary'\n",
    "df.loc[df.indrel_1mes == 1, 'indrel_1mes'] = 'Primary'\n",
    "df.loc[df.indrel_1mes == 1.0, 'indrel_1mes'] = 'Primary'\n",
    "\n",
    "df.loc[df.indrel_1mes == '2', 'indrel_1mes'] = 'Co-owner'\n",
    "df.loc[df.indrel_1mes == '2.0', 'indrel_1mes'] = 'Co-owner'\n",
    "df.loc[df.indrel_1mes == 2, 'indrel_1mes'] = 'Co-owner'\n",
    "df.loc[df.indrel_1mes == 2.0, 'indrel_1mes'] = 'Co-owner'\n",
    "\n",
    "df.loc[df.indrel_1mes == '3', 'indrel_1mes'] = 'Former Primary'\n",
    "df.loc[df.indrel_1mes == '3.0', 'indrel_1mes'] = 'Former Primary'\n",
    "df.loc[df.indrel_1mes == 3, 'indrel_1mes'] = 'Former Primary'\n",
    "df.loc[df.indrel_1mes == 3.0, 'indrel_1mes'] = 'Former Primary'\n",
    "\n",
    "df.loc[df.indrel_1mes == '4', 'indrel_1mes'] = 'Former Co-owner'\n",
    "df.loc[df.indrel_1mes == '4.0', 'indrel_1mes'] = 'Former Co-owner'\n",
    "df.loc[df.indrel_1mes == 4, 'indrel_1mes'] = 'Former Co-owner'\n",
    "df.loc[df.indrel_1mes == 4.0, 'indrel_1mes'] = 'Former Co-owner'\n",
    "\n",
    "df.indrel_1mes  = df.indrel_1mes.fillna('Primary')\n",
    "\n",
    "df.nomprov = df.nomprov.fillna(\"MADRID\")\n",
    "\n",
    "df.loc[df.renta == '         NA',\"renta\"] = 0\n",
    "df.renta = df.renta.astype(float)\n",
    "df.loc[df.renta == 0, 'renta'] = df[df.renta > 0].groupby('nomprov').renta.transform('median')\n",
    "df.loc[df.renta.isnull(), \"renta\"] = df.groupby('nomprov').renta.transform('median')\n",
    "\n",
    "df.segmento = df[df.renta <= 98000].segmento.fillna(\"03 - UNIVERSITARIO\")\n",
    "df.segmento = df[df.renta <= 125500].segmento.fillna(\"02 - PARTICULARES\")\n",
    "df.segmento = df.segmento.fillna(\"01 - TOP\")\n",
    "\n",
    "df.sexo = df.sexo.fillna(\"V\")\n",
    "\n",
    "df.tiprel_1mes = df.tiprel_1mes.fillna('I')\n",
    "\n",
    "df.ind_nomina_ult1 = df.ind_nomina_ult1.fillna(0.0)\n",
    "df.ind_nom_pens_ult1 = df.ind_nom_pens_ult1.fillna(0.0)"
   ]
  },
  {
   "cell_type": "code",
   "execution_count": null,
   "metadata": {},
   "outputs": [],
   "source": [
    "df.loc[df.antiguedad == -999999, 'antiguedad'] = df[df.antiguedad.astype(float) >= 0].antiguedad.median()"
   ]
  },
  {
   "cell_type": "code",
   "execution_count": null,
   "metadata": {},
   "outputs": [],
   "source": [
    "df['ageGroup'] = (df.age.astype(float) // 10) - 1\n",
    "\n",
    "df['isSpanish'] = df.pais_residencia.map(lambda x: 1 if x == \"ES\" else 0)\n",
    "\n",
    "df['majorCity'] = df.nomprov.map(lambda x: 1 if x == \"MADRID\" or x == \"BARCELONA\" else 0)\n",
    "\n",
    "df['fecha_alta_year'] = pd.DatetimeIndex(df.fecha_alta).year - 1995\n",
    "df['fecha_dato_year'] = pd.DatetimeIndex(df.fecha_dato).year - 2015\n",
    "df['fecha_alta_month'] = pd.DatetimeIndex(df.fecha_alta).month - 1\n",
    "df['fecha_dato_month'] = pd.DatetimeIndex(df.fecha_dato).month - 1\n",
    "\n",
    "df.antiguedad = df.antiguedad.astype(int)\n",
    "df['antiguedad_years'] = df.antiguedad // 12\n",
    "\n",
    "df.loc[df.indrel == 99.0, \"indrel\"] = 0.0"
   ]
  },
  {
   "cell_type": "code",
   "execution_count": null,
   "metadata": {},
   "outputs": [],
   "source": [
    "df.ult_fec_cli_1t.fillna(0)\n",
    "df['HAS_ult_fec_cli_1t'] = df.ult_fec_cli_1t.map(lambda x: 1 if type(x)==str else 0)\n",
    "\n",
    "df = df.drop('ult_fec_cli_1t', 1)\n",
    "\n",
    "df['rentaGroup'] = df.renta.astype(float) // 50000\n",
    "df.loc[df.renta >= 1000000, \"rentaGroup\"] = 20\n",
    "df.loc[df.renta >= 10000000, \"rentaGroup\"] = 21"
   ]
  },
  {
   "cell_type": "code",
   "execution_count": null,
   "metadata": {},
   "outputs": [],
   "source": [
    "l = len(train_wnewproducts)- len(dirtyrows)"
   ]
  },
  {
   "cell_type": "code",
   "execution_count": null,
   "metadata": {},
   "outputs": [],
   "source": [
    "train_final, test = df[:l], df[l:]\n",
    "train_final_training_cols = train_final\n",
    "train_final_training_cols = train_final_training_cols.drop(product_cols, axis=1)\n",
    "test = test.drop(product_cols, axis=1)"
   ]
  },
  {
   "cell_type": "code",
   "execution_count": null,
   "metadata": {},
   "outputs": [],
   "source": [
    "print(len(train_final))\n",
    "print(len(test))"
   ]
  },
  {
   "cell_type": "code",
   "execution_count": null,
   "metadata": {},
   "outputs": [],
   "source": [
    "train_final.ncodpers.isin(test.ncodpers).sum()"
   ]
  },
  {
   "cell_type": "code",
   "execution_count": null,
   "metadata": {},
   "outputs": [],
   "source": [
    "df = pd.concat([train_final_training_cols, test], axis = 0)"
   ]
  },
  {
   "cell_type": "code",
   "execution_count": null,
   "metadata": {},
   "outputs": [],
   "source": [
    "df.pais_residencia = df.pais_residencia.astype('category').cat.codes\n",
    "df.canal_entrada = df.canal_entrada.astype('category').cat.codes\n",
    "df.nomprov = df.nomprov.astype('category').cat.codes\n",
    "final_month.nomprov = final_month.indrel_1mes.astype('category').cat.codes\n",
    "df = pd.get_dummies(df, columns = ['ind_empleado','sexo','tiprel_1mes','indresi',\n",
    "                                   'indext','conyuemp','indfall','segmento','indrel_1mes'])\n",
    "\n",
    "df = df.drop(['fecha_dato', 'fecha_alta'], axis = 1)"
   ]
  },
  {
   "cell_type": "code",
   "execution_count": null,
   "metadata": {},
   "outputs": [],
   "source": [
    "train_final_training_cols, test = df[:l], df[l:]"
   ]
  },
  {
   "cell_type": "code",
   "execution_count": null,
   "metadata": {},
   "outputs": [],
   "source": [
    "labels = train_final[product_cols]\n",
    "labels['ncodpers'] = train_final.ncodpers\n",
    "labels = labels.set_index(\"ncodpers\")\n",
    "stacked_labels = labels.stack()\n",
    "filtered_labels = stacked_labels.reset_index()\n",
    "filtered_labels.columns = [\"ncodpers\", \"product\", \"newly_added\"]\n",
    "filtered_labels = filtered_labels[filtered_labels[\"newly_added\"] == 1]\n",
    "multiclass_train = filtered_labels.merge(train_final_training_cols, on=\"ncodpers\", how=\"left\")\n",
    "train_final = multiclass_train.drop_duplicates(multiclass_train, keep='last')\n",
    "labels_final = train_final['product']\n",
    "train_final_ncodpers = train_final.ncodpers\n",
    "\n",
    "train_final = train_final.drop(['ncodpers','newly_added','product'], axis = 1)"
   ]
  },
  {
   "cell_type": "code",
   "execution_count": null,
   "metadata": {},
   "outputs": [],
   "source": [
    "#need to go through and describe each step\n",
    "dirtyrows = final_month[final_month.ind_empleado.isnull()].index\n",
    "final_month = final_month.drop(dirtyrows, axis = 0)\n",
    "final_month.canal_entrada = final_month.canal_entrada.fillna(\"Unknown\")\n",
    "final_month = final_month.drop(\"cod_prov\", 1)\n",
    "final_month.conyuemp = final_month.conyuemp.fillna(\"Unknown\")\n",
    "final_month.loc[final_month.indrel_1mes == '1', 'indrel_1mes'] = 'Primary'\n",
    "final_month.loc[final_month.indrel_1mes == '1.0', 'indrel_1mes'] = 'Primary'\n",
    "final_month.loc[final_month.indrel_1mes == 1, 'indrel_1mes'] = 'Primary'\n",
    "final_month.loc[final_month.indrel_1mes == 1.0, 'indrel_1mes'] = 'Primary'\n",
    "final_month.loc[final_month.indrel_1mes == '2', 'indrel_1mes'] = 'Co-owner'\n",
    "final_month.loc[final_month.indrel_1mes == '2.0', 'indrel_1mes'] = 'Co-owner'\n",
    "final_month.loc[final_month.indrel_1mes == 2, 'indrel_1mes'] = 'Co-owner'\n",
    "final_month.loc[final_month.indrel_1mes == 2.0, 'indrel_1mes'] = 'Co-owner'\n",
    "final_month.loc[final_month.indrel_1mes == '3', 'indrel_1mes'] = 'Former Primary'\n",
    "final_month.loc[final_month.indrel_1mes == '3.0', 'indrel_1mes'] = 'Former Primary'\n",
    "final_month.loc[final_month.indrel_1mes == 3, 'indrel_1mes'] = 'Former Primary'\n",
    "final_month.loc[final_month.indrel_1mes == 3.0, 'indrel_1mes'] = 'Former Primary'\n",
    "final_month.loc[final_month.indrel_1mes == '4', 'indrel_1mes'] = 'Former Co-owner'\n",
    "final_month.loc[final_month.indrel_1mes == '4.0', 'indrel_1mes'] = 'Former Co-owner'\n",
    "final_month.loc[final_month.indrel_1mes == 4, 'indrel_1mes'] = 'Former Co-owner'\n",
    "final_month.loc[final_month.indrel_1mes == 4.0, 'indrel_1mes'] = 'Former Co-owner'\n",
    "final_month.indrel_1mes = final_month.indrel_1mes.fillna('Primary')\n",
    "final_month.nomprov = final_month.nomprov.fillna(\"MADRID\")\n",
    "final_month.renta = final_month.renta.astype(float)\n",
    "final_month.loc[final_month.renta.isnull(), \"renta\"] = final_month.groupby('nomprov').renta.transform('median')\n",
    "final_month.segmento = final_month[final_month.renta <= 98000].segmento.fillna(\"03 - UNIVERSITARIO\")\n",
    "final_month.segmento = final_month[final_month.renta <= 125500].segmento.fillna(\"02 - PARTICULARES\")\n",
    "final_month.segmento = final_month.segmento.fillna(\"01 - TOP\")\n",
    "final_month.sexo = final_month.sexo.fillna(\"V\")\n",
    "final_month.tiprel_1mes = final_month.tiprel_1mes.fillna('I')\n",
    "final_month.ind_nomina_ult1 = final_month.ind_nomina_ult1.fillna(0.0)\n",
    "final_month.ind_nom_pens_ult1 = final_month.ind_nom_pens_ult1.fillna(0.0)\n",
    "final_month.loc[final_month.antiguedad == -999999, 'antiguedad'] = final_month[final_month.antiguedad >= 0].antiguedad.median()\n",
    "final_month.age = final_month.age.astype(int)\n",
    "final_month.loc[final_month.age < 20,\"age\"] = 19\n",
    "final_month.loc[final_month.age > 90,\"age\"] = 91\n",
    "final_month['ageGroup'] = (final_month.age // 10) - 1\n",
    "final_month['isSpanish'] = final_month.pais_residencia.map(lambda x: 1 if x == \"ES\" else 0)\n",
    "final_month['majorCity'] = final_month.nomprov.map(lambda x: 1 if x == \"MADRID\" or x == \"BARCELONA\" else 0)\n",
    "final_month['fecha_alta_year'] = pd.DatetimeIndex(final_month.fecha_alta).year - 1995\n",
    "final_month['fecha_dato_year'] = pd.DatetimeIndex(final_month.fecha_dato).year - 2015\n",
    "final_month['fecha_alta_month'] = pd.DatetimeIndex(final_month.fecha_alta).month - 1\n",
    "final_month['fecha_dato_month'] = pd.DatetimeIndex(final_month.fecha_dato).month - 1\n",
    "final_month.antiguedad = final_month.antiguedad.astype(int)\n",
    "final_month['antiguedad_years'] = final_month.antiguedad // 12\n",
    "final_month.loc[final_month.indrel == 99.0, \"indrel\"] = 0.0\n",
    "final_month.ult_fec_cli_1t.fillna(0)\n",
    "final_month['HAS_ult_fec_cli_1t'] = final_month.ult_fec_cli_1t.map(lambda x: 1 if type(x) == str else 0)\n",
    "final_month = final_month.drop('ult_fec_cli_1t', 1)\n",
    "final_month['rentaGroup'] = final_month.renta.astype(float) // 50000\n",
    "final_month.loc[final_month.renta >= 1000000, \"rentaGroup\"] = 20\n",
    "final_month.loc[final_month.renta >= 10000000, \"rentaGroup\"] = 21\n",
    "final_month_training_cols = final_month\n",
    "final_month_training_cols = final_month_training_cols.drop(product_cols, axis=1)\n",
    "final_month.pais_residencia = final_month.pais_residencia.astype('category').cat.codes\n",
    "final_month.canal_entrada = final_month.canal_entrada.astype('category').cat.codes\n",
    "final_month.nomprov = final_month.nomprov.astype('category').cat.codes\n",
    "final_month.nomprov = final_month.indrel_1mes.astype('category').cat.codes\n",
    "final_month = pd.get_dummies(final_month, columns = ['ind_empleado','sexo','tiprel_1mes','indresi',\n",
    "                                   'indext','conyuemp','indfall','segmento','indrel_1mes'])\n",
    "final_month = final_month.drop(['fecha_dato', 'fecha_alta'], axis = 1)"
   ]
  },
  {
   "cell_type": "code",
   "execution_count": null,
   "metadata": {},
   "outputs": [],
   "source": [
    "labels_final_month = final_month[product_cols]\n",
    "labels_final_month['ncodpers'] = final_month.ncodpers\n",
    "labels_final_month = labels_final_month.set_index(\"ncodpers\")\n",
    "stacked_labels_final_month = labels_final_month.stack()\n",
    "filtered_labels_final_month = stacked_labels_final_month.reset_index()\n",
    "filtered_labels_final_month.columns = [\"ncodpers\", \"product\", \"newly_added\"]\n",
    "filtered_labels_final_month = filtered_labels_final_month[filtered_labels_final_month[\"newly_added\"] == 1]\n",
    "multiclass_final_month = filtered_labels_final_month.merge(final_month_training_cols, on=\"ncodpers\", how=\"left\")\n",
    "final_month = multiclass_final_month.drop_duplicates(multiclass_final_month, keep='last')\n",
    "labels_final_month_final = final_month['product']\n",
    "final_month_ncodpers = final_month.ncodpers\n",
    "final_month = final_month.drop(['ncodpers','newly_added','product'], axis = 1)"
   ]
  },
  {
   "cell_type": "code",
   "execution_count": null,
   "metadata": {},
   "outputs": [],
   "source": [
    "print(len(train_final))\n",
    "print(len(labels_final))\n",
    "print(len(final_month))\n",
    "print(len(labels_final_month_final))"
   ]
  },
  {
   "cell_type": "code",
   "execution_count": null,
   "metadata": {},
   "outputs": [],
   "source": [
    "labels_final.value_counts()"
   ]
  },
  {
   "cell_type": "code",
   "execution_count": null,
   "metadata": {},
   "outputs": [],
   "source": [
    "labels_final = labels_final.astype('category').cat.codes"
   ]
  },
  {
   "cell_type": "code",
   "execution_count": null,
   "metadata": {},
   "outputs": [],
   "source": []
  },
  {
   "cell_type": "code",
   "execution_count": null,
   "metadata": {},
   "outputs": [],
   "source": [
    "test = test.drop('ncodpers', axis = 1)"
   ]
  },
  {
   "cell_type": "code",
   "execution_count": null,
   "metadata": {},
   "outputs": [],
   "source": [
    "from CFModel import CFModel"
   ]
  },
  {
   "cell_type": "code",
   "execution_count": null,
   "metadata": {},
   "outputs": [],
   "source": [
    "from surprise import Reader, Dataset"
   ]
  },
  {
   "cell_type": "code",
   "execution_count": null,
   "metadata": {},
   "outputs": [],
   "source": [
    "train = pd.read_csv(r'E:\\Santander Recommendation\\train_ver2.csv')\n",
    "lastmonth = train.loc[train['fecha_dato']=='2016-05-28']\n",
    "train=[]\n",
    "lastmonthlabels = lastmonth[product_cols]\n",
    "lastmonthlabels['ncodpers'] = lastmonth.ncodpers\n",
    "lastmonthlabels = lastmonthlabels.set_index('ncodpers')\n",
    "stacked_lastmonthlabels = lastmonthlabels.stack()\n",
    "filtered_lastmonthlabels = stacked_lastmonthlabels.reset_index()\n",
    "filtered_lastmonthlabels.columns = [\"ncodpers\", \"product\", \"is_owned\"]"
   ]
  },
  {
   "cell_type": "code",
   "execution_count": null,
   "metadata": {},
   "outputs": [],
   "source": [
    "reader = Reader(line_format='user item rating', rating_scale=(0,1))\n",
    "data = Dataset.load_from_df(filtered_lastmonthlabels, reader=reader)\n"
   ]
  },
  {
   "cell_type": "code",
   "execution_count": null,
   "metadata": {},
   "outputs": [],
   "source": [
    "collabfilter = CFModel(n_users, m_items, kfactors)\n",
    "collabfilter.compile(loss='mse', optimizer='adamax')"
   ]
  },
  {
   "cell_type": "code",
   "execution_count": null,
   "metadata": {},
   "outputs": [],
   "source": [
    "import keras\n",
    "from keras.layers import Dense, Dropout\n",
    "from keras.models import Sequential\n",
    "from keras.utils import to_categorical\n",
    "from keras.callbacks import EarlyStopping\n",
    "from sklearn.preprocessing import normalize\n",
    "from sklearn.model_selection import train_test_split"
   ]
  },
  {
   "cell_type": "code",
   "execution_count": null,
   "metadata": {},
   "outputs": [],
   "source": [
    "y = to_categorical(labels_final)"
   ]
  },
  {
   "cell_type": "code",
   "execution_count": null,
   "metadata": {},
   "outputs": [],
   "source": [
    "X_train, X_test, y_train, y_test = train_test_split(train_final, y, test_size=0.2, random_state=21)"
   ]
  },
  {
   "cell_type": "code",
   "execution_count": null,
   "metadata": {},
   "outputs": [],
   "source": [
    "X_train = normalize(X_train)\n",
    "X_test = normalize(X_test)"
   ]
  },
  {
   "cell_type": "code",
   "execution_count": null,
   "metadata": {},
   "outputs": [],
   "source": [
    "X_train.shape"
   ]
  },
  {
   "cell_type": "code",
   "execution_count": null,
   "metadata": {},
   "outputs": [],
   "source": [
    "model = Sequential()"
   ]
  },
  {
   "cell_type": "code",
   "execution_count": null,
   "metadata": {},
   "outputs": [],
   "source": [
    "model.add(Dense(512,activation='relu',input_shape=(45,)))"
   ]
  },
  {
   "cell_type": "code",
   "execution_count": null,
   "metadata": {},
   "outputs": [],
   "source": [
    "model.add(Dropout(0.2))"
   ]
  },
  {
   "cell_type": "code",
   "execution_count": null,
   "metadata": {},
   "outputs": [],
   "source": [
    "model.add(Dense(512,activation='relu'))"
   ]
  },
  {
   "cell_type": "code",
   "execution_count": null,
   "metadata": {},
   "outputs": [],
   "source": [
    "model.add(Dropout(0.2))"
   ]
  },
  {
   "cell_type": "code",
   "execution_count": null,
   "metadata": {},
   "outputs": [],
   "source": [
    "model.add(Dense(24,activation='sigmoid'))"
   ]
  },
  {
   "cell_type": "code",
   "execution_count": null,
   "metadata": {},
   "outputs": [],
   "source": [
    "model.compile(optimizer='rmsprop',loss='categorical_crossentropy',metrics=['accuracy'])"
   ]
  },
  {
   "cell_type": "code",
   "execution_count": null,
   "metadata": {},
   "outputs": [],
   "source": [
    "early_stopping_monitor = EarlyStopping(patience=1)"
   ]
  },
  {
   "cell_type": "code",
   "execution_count": null,
   "metadata": {},
   "outputs": [],
   "source": [
    "model_1_training = model.fit(X_train,y_train,validation_split=0.3,epochs=3, batch_size = 32,verbose =1,\n",
    "                              validation_data = (X_test, y_test), callbacks=[early_stopping_monitor])"
   ]
  },
  {
   "cell_type": "code",
   "execution_count": null,
   "metadata": {},
   "outputs": [],
   "source": [
    "ynew = model.predict(X_test)\n",
    "ynew[0]"
   ]
  },
  {
   "cell_type": "code",
   "execution_count": null,
   "metadata": {},
   "outputs": [],
   "source": [
    "score = model.evaluate(X_test, y_test,batch_size=32)\n",
    "score"
   ]
  },
  {
   "cell_type": "code",
   "execution_count": null,
   "metadata": {},
   "outputs": [],
   "source": [
    "labels_final_month_final_cat = labels_final_month_final.astype('category').cat.codes"
   ]
  },
  {
   "cell_type": "code",
   "execution_count": null,
   "metadata": {},
   "outputs": [],
   "source": [
    "used_products = pd.DataFrame()\n",
    "used_products['product'] = labels_final_month_final_cat\n",
    "used_products['ncodpers'] = final_month_ncodpers\n",
    "used_products = used_products.drop_duplicates(keep = 'last')"
   ]
  },
  {
   "cell_type": "code",
   "execution_count": null,
   "metadata": {},
   "outputs": [],
   "source": [
    "#create a dictionary to store each product a customer already has\n",
    "used_recommendation_products = {}\n",
    "product_cols = np.array(product_cols)\n",
    "#iterate through used_products and add each one to used_recommendation_products\n",
    "for idx,row_val in used_products.iterrows():\n",
    "    used_recommendation_products.setdefault(row_val['ncodpers'],[]).append(product_cols[row_val['product']])"
   ]
  },
  {
   "cell_type": "code",
   "execution_count": null,
   "metadata": {},
   "outputs": [],
   "source": [
    "used_recommendation_products[15889]"
   ]
  },
  {
   "cell_type": "code",
   "execution_count": null,
   "metadata": {},
   "outputs": [],
   "source": [
    "modeltest = normalize(test)"
   ]
  },
  {
   "cell_type": "code",
   "execution_count": null,
   "metadata": {},
   "outputs": [],
   "source": [
    "modelpreds = model.predict(modeltest)"
   ]
  },
  {
   "cell_type": "code",
   "execution_count": null,
   "metadata": {},
   "outputs": [],
   "source": [
    "modelpreds"
   ]
  },
  {
   "cell_type": "code",
   "execution_count": null,
   "metadata": {},
   "outputs": [],
   "source": [
    "pred = np.argsort(modelpreds, axis=1)\n",
    "pred = np.fliplr(pred)"
   ]
  },
  {
   "cell_type": "code",
   "execution_count": null,
   "metadata": {},
   "outputs": [],
   "source": [
    "pred[0]"
   ]
  },
  {
   "cell_type": "code",
   "execution_count": null,
   "metadata": {},
   "outputs": [],
   "source": [
    "test_ids = np.array(pd.read_csv(r'E:\\Santander Recommendation\\test_ver2.csv',usecols=['ncodpers'])['ncodpers'])\n",
    "product_cols = np.array(product_cols)\n",
    "final_preds = []\n",
    "#iteratively create the final rank ordered recommendations for each user, exluding ones the customer already has\n",
    "for idx,predicted in enumerate(pred):\n",
    "    ids = test_ids[idx]\n",
    "    top_product = product_cols[predicted]\n",
    "    used_products = used_recommendation_products.get(ids,[])\n",
    "    new_top_product = []\n",
    "    for product in top_product:\n",
    "        if product not in used_products:\n",
    "            new_top_product.append(product)\n",
    "        if len(new_top_product) == 7:\n",
    "            break\n",
    "    final_preds.append(' '.join(new_top_product))"
   ]
  },
  {
   "cell_type": "code",
   "execution_count": null,
   "metadata": {},
   "outputs": [],
   "source": [
    "submission = pd.DataFrame({'ncodpers':test_ids,'added_products':final_preds})\n",
    "submission.to_csv('submission.csv',index=False)"
   ]
  },
  {
   "cell_type": "code",
   "execution_count": null,
   "metadata": {},
   "outputs": [],
   "source": []
  }
 ],
 "metadata": {
  "kernelspec": {
   "display_name": "Python 3",
   "language": "python",
   "name": "python3"
  },
  "language_info": {
   "codemirror_mode": {
    "name": "ipython",
    "version": 3
   },
   "file_extension": ".py",
   "mimetype": "text/x-python",
   "name": "python",
   "nbconvert_exporter": "python",
   "pygments_lexer": "ipython3",
   "version": "3.6.4"
  }
 },
 "nbformat": 4,
 "nbformat_minor": 2
}
