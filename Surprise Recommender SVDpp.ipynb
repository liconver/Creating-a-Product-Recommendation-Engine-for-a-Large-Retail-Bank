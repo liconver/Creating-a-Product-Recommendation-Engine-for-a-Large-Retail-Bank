{
 "cells": [
  {
   "cell_type": "code",
   "execution_count": 1,
   "metadata": {},
   "outputs": [],
   "source": [
    "import pandas as pd\n",
    "import numpy as np"
   ]
  },
  {
   "cell_type": "code",
   "execution_count": 2,
   "metadata": {},
   "outputs": [],
   "source": [
    "product_cols = ['ind_ahor_fin_ult1','ind_aval_fin_ult1','ind_cco_fin_ult1','ind_cder_fin_ult1',\n",
    "                'ind_cno_fin_ult1','ind_ctju_fin_ult1','ind_ctma_fin_ult1','ind_ctop_fin_ult1',\n",
    "                'ind_ctpp_fin_ult1','ind_deco_fin_ult1','ind_dela_fin_ult1','ind_deme_fin_ult1',\n",
    "                'ind_ecue_fin_ult1','ind_fond_fin_ult1','ind_hip_fin_ult1','ind_nom_pens_ult1',\n",
    "                'ind_nomina_ult1','ind_plan_fin_ult1','ind_pres_fin_ult1','ind_reca_fin_ult1',\n",
    "                'ind_recibo_ult1','ind_tjcr_fin_ult1','ind_valo_fin_ult1','ind_viv_fin_ult1']"
   ]
  },
  {
   "cell_type": "code",
   "execution_count": 3,
   "metadata": {},
   "outputs": [
    {
     "name": "stderr",
     "output_type": "stream",
     "text": [
      "C:\\Users\\liamc\\Anaconda3\\lib\\site-packages\\IPython\\core\\interactiveshell.py:2728: DtypeWarning: Columns (5,8,11,15) have mixed types. Specify dtype option on import or set low_memory=False.\n",
      "  interactivity=interactivity, compiler=compiler, result=result)\n",
      "C:\\Users\\liamc\\Anaconda3\\lib\\site-packages\\ipykernel_launcher.py:4: SettingWithCopyWarning: \n",
      "A value is trying to be set on a copy of a slice from a DataFrame.\n",
      "Try using .loc[row_indexer,col_indexer] = value instead\n",
      "\n",
      "See the caveats in the documentation: http://pandas.pydata.org/pandas-docs/stable/indexing.html#indexing-view-versus-copy\n",
      "  after removing the cwd from sys.path.\n"
     ]
    }
   ],
   "source": [
    "train = pd.read_csv(r'E:\\Santander Recommendation\\train_ver2.csv')\n",
    "train = train.loc[train['fecha_dato']=='2016-05-28']\n",
    "lastmonthlabels = train[product_cols]\n",
    "lastmonthlabels['ncodpers'] = train.ncodpers #check if another last month\n",
    "lastmonthlabels = lastmonthlabels.set_index('ncodpers')\n",
    "stacked_lastmonthlabels = lastmonthlabels.stack()\n",
    "filtered_lastmonthlabels = stacked_lastmonthlabels.reset_index()\n",
    "filtered_lastmonthlabels.columns = [\"ncodpers\", \"product\", \"is_owned\"]\n",
    "lastmonthlabels=[]"
   ]
  },
  {
   "cell_type": "code",
   "execution_count": 4,
   "metadata": {},
   "outputs": [
    {
     "name": "stdout",
     "output_type": "stream",
     "text": [
      " processing epoch 0\n",
      " processing epoch 1\n",
      " processing epoch 2\n",
      " processing epoch 3\n",
      " processing epoch 4\n",
      " processing epoch 5\n",
      " processing epoch 6\n",
      " processing epoch 7\n",
      " processing epoch 8\n",
      " processing epoch 9\n",
      " processing epoch 10\n",
      " processing epoch 11\n",
      " processing epoch 12\n",
      " processing epoch 13\n",
      " processing epoch 14\n",
      " processing epoch 15\n",
      " processing epoch 16\n",
      " processing epoch 17\n",
      " processing epoch 18\n",
      " processing epoch 19\n"
     ]
    },
    {
     "ename": "NameError",
     "evalue": "name 'testset' is not defined",
     "output_type": "error",
     "traceback": [
      "\u001b[1;31m---------------------------------------------------------------------------\u001b[0m",
      "\u001b[1;31mNameError\u001b[0m                                 Traceback (most recent call last)",
      "\u001b[1;32m<ipython-input-4-263531af742e>\u001b[0m in \u001b[0;36m<module>\u001b[1;34m()\u001b[0m\n\u001b[0;32m     10\u001b[0m \u001b[0malgo\u001b[0m \u001b[1;33m=\u001b[0m \u001b[0mSVDpp\u001b[0m\u001b[1;33m(\u001b[0m\u001b[0mverbose\u001b[0m\u001b[1;33m=\u001b[0m\u001b[1;32mTrue\u001b[0m\u001b[1;33m)\u001b[0m\u001b[1;33m\u001b[0m\u001b[0m\n\u001b[0;32m     11\u001b[0m \u001b[0malgo\u001b[0m\u001b[1;33m.\u001b[0m\u001b[0mfit\u001b[0m\u001b[1;33m(\u001b[0m\u001b[0mtrainset\u001b[0m\u001b[1;33m)\u001b[0m\u001b[1;33m\u001b[0m\u001b[0m\n\u001b[1;32m---> 12\u001b[1;33m \u001b[0mpredictions\u001b[0m \u001b[1;33m=\u001b[0m \u001b[0malgo\u001b[0m\u001b[1;33m.\u001b[0m\u001b[0mtest\u001b[0m\u001b[1;33m(\u001b[0m\u001b[0mtestset\u001b[0m\u001b[1;33m)\u001b[0m\u001b[1;33m\u001b[0m\u001b[0m\n\u001b[0m\u001b[0;32m     13\u001b[0m \u001b[0mprint\u001b[0m\u001b[1;33m(\u001b[0m\u001b[0maccuracy\u001b[0m\u001b[1;33m.\u001b[0m\u001b[0mrmse\u001b[0m\u001b[1;33m(\u001b[0m\u001b[0mpredictions\u001b[0m\u001b[1;33m)\u001b[0m\u001b[1;33m)\u001b[0m\u001b[1;33m\u001b[0m\u001b[0m\n",
      "\u001b[1;31mNameError\u001b[0m: name 'testset' is not defined"
     ]
    }
   ],
   "source": [
    "from surprise import SVDpp\n",
    "from surprise import Dataset\n",
    "from surprise import Reader\n",
    "from surprise.model_selection import cross_validate\n",
    "from surprise import accuracy\n",
    "from surprise.model_selection import train_test_split\n",
    "reader = Reader(line_format='user item rating', rating_scale=(0,1))\n",
    "data = Dataset.load_from_df(filtered_lastmonthlabels, reader=reader)\n",
    "trainset = data.build_full_trainset()\n",
    "algo = SVDpp(verbose=True)\n",
    "algo.fit(trainset)"
   ]
  },
  {
   "cell_type": "code",
   "execution_count": 5,
   "metadata": {},
   "outputs": [
    {
     "name": "stderr",
     "output_type": "stream",
     "text": [
      "C:\\Users\\liamc\\Anaconda3\\lib\\site-packages\\IPython\\core\\interactiveshell.py:2728: DtypeWarning: Columns (15) have mixed types. Specify dtype option on import or set low_memory=False.\n",
      "  interactivity=interactivity, compiler=compiler, result=result)\n"
     ]
    }
   ],
   "source": [
    "test = pd.read_csv(r'E:\\Santander Recommendation\\test_ver2.csv')"
   ]
  },
  {
   "cell_type": "code",
   "execution_count": 6,
   "metadata": {},
   "outputs": [],
   "source": [
    "users = test.ncodpers"
   ]
  },
  {
   "cell_type": "code",
   "execution_count": 7,
   "metadata": {},
   "outputs": [],
   "source": [
    "uid = users[0]\n",
    "iid = product_cols[2]"
   ]
  },
  {
   "cell_type": "code",
   "execution_count": 8,
   "metadata": {},
   "outputs": [],
   "source": [
    "pred =algo.predict(uid,iid)"
   ]
  },
  {
   "cell_type": "code",
   "execution_count": 9,
   "metadata": {},
   "outputs": [
    {
     "data": {
      "text/plain": [
       "0.7171903153687742"
      ]
     },
     "execution_count": 9,
     "metadata": {},
     "output_type": "execute_result"
    }
   ],
   "source": [
    "pred[3]"
   ]
  },
  {
   "cell_type": "code",
   "execution_count": 10,
   "metadata": {},
   "outputs": [],
   "source": [
    "preds =[]\n",
    "user_preds = []\n",
    "for user in users:\n",
    "    for product in product_cols:\n",
    "        user_preds.append(algo.predict(user,product)[3])\n",
    "    preds.append(user_preds)\n",
    "    user_preds = []"
   ]
  },
  {
   "cell_type": "code",
   "execution_count": 11,
   "metadata": {},
   "outputs": [],
   "source": [
    "preds =np.array([np.array(predi) for predi in preds])"
   ]
  },
  {
   "cell_type": "code",
   "execution_count": 12,
   "metadata": {},
   "outputs": [],
   "source": [
    "preds = np.argsort(preds, axis=1)\n",
    "preds = np.fliplr(preds)"
   ]
  },
  {
   "cell_type": "code",
   "execution_count": 13,
   "metadata": {},
   "outputs": [
    {
     "data": {
      "text/plain": [
       "array([ 2,  4, 20, 16, 15, 19, 12,  5,  6, 21,  3, 13, 22, 23,  0,  1, 18,\n",
       "       14, 11,  9,  8,  7, 17, 10], dtype=int64)"
      ]
     },
     "execution_count": 13,
     "metadata": {},
     "output_type": "execute_result"
    }
   ],
   "source": [
    "preds[0]"
   ]
  },
  {
   "cell_type": "code",
   "execution_count": 14,
   "metadata": {},
   "outputs": [],
   "source": [
    "final_month_training_cols = train\n",
    "final_month_training_cols = final_month_training_cols.drop(product_cols, axis=1)"
   ]
  },
  {
   "cell_type": "code",
   "execution_count": 15,
   "metadata": {},
   "outputs": [
    {
     "name": "stderr",
     "output_type": "stream",
     "text": [
      "C:\\Users\\liamc\\Anaconda3\\lib\\site-packages\\ipykernel_launcher.py:5: SettingWithCopyWarning: \n",
      "A value is trying to be set on a copy of a slice from a DataFrame.\n",
      "Try using .loc[row_indexer,col_indexer] = value instead\n",
      "\n",
      "See the caveats in the documentation: http://pandas.pydata.org/pandas-docs/stable/indexing.html#indexing-view-versus-copy\n",
      "  \"\"\"\n"
     ]
    }
   ],
   "source": [
    "#Get the target columns\n",
    "labels_final_month = train[product_cols]\n",
    "\n",
    "#Add ncodpers to the dataframe\n",
    "labels_final_month['ncodpers'] = train.ncodpers\n",
    "\n",
    "labels_final_month = labels_final_month.set_index(\"ncodpers\")\n",
    "\n",
    "stacked_labels_final_month = labels_final_month.stack()\n",
    "\n",
    "filtered_labels_final_month = stacked_labels_final_month.reset_index()\n",
    "\n",
    "filtered_labels_final_month.columns = [\"ncodpers\", \"product\", \"newly_added\"]\n",
    "\n",
    "#Only select the rows where there is a new product.\n",
    "filtered_labels_final_month = filtered_labels_final_month[filtered_labels_final_month[\"newly_added\"] == 1]\n",
    "\n",
    "#Merge with the training features.\n",
    "multiclass_final_month = filtered_labels_final_month.merge(final_month_training_cols, on=\"ncodpers\", how=\"left\")\n",
    "\n",
    "final_month = multiclass_final_month.drop_duplicates(multiclass_final_month, keep='last')\n",
    "\n",
    "labels_final_month_final = final_month['product']\n",
    "\n",
    "final_month_ncodpers = final_month.ncodpers\n",
    "#Remove the columns that are not needed to train the model.\n",
    "final_month = final_month.drop(['ncodpers','newly_added','product'], axis = 1)"
   ]
  },
  {
   "cell_type": "code",
   "execution_count": 16,
   "metadata": {},
   "outputs": [],
   "source": [
    "labels_final_month_final_cat = labels_final_month_final.astype('category').cat.codes"
   ]
  },
  {
   "cell_type": "code",
   "execution_count": 17,
   "metadata": {},
   "outputs": [],
   "source": [
    "used_products = pd.DataFrame()\n",
    "used_products['product'] = labels_final_month_final_cat\n",
    "used_products['ncodpers'] = final_month_ncodpers\n",
    "used_products = used_products.drop_duplicates(keep = 'last')"
   ]
  },
  {
   "cell_type": "code",
   "execution_count": 18,
   "metadata": {},
   "outputs": [
    {
     "name": "stdout",
     "output_type": "stream",
     "text": [
      "100000\n",
      "200000\n",
      "300000\n",
      "300000\n",
      "400000\n",
      "500000\n",
      "600000\n",
      "600000\n",
      "600000\n",
      "600000\n",
      "600000\n",
      "600000\n"
     ]
    }
   ],
   "source": [
    "#create a dictionary to store each product a customer already has\n",
    "used_recommendation_products = {}\n",
    "product_cols = np.array(product_cols)\n",
    "#iterate through used_products and add each one to used_recommendation_products\n",
    "for idx,row_val in used_products.iterrows():\n",
    "    used_recommendation_products.setdefault(row_val['ncodpers'],[]).append(product_cols[row_val['product']])\n",
    "    if len(used_recommendation_products) % 100000 == 0:\n",
    "        print(len(used_recommendation_products))"
   ]
  },
  {
   "cell_type": "code",
   "execution_count": 19,
   "metadata": {},
   "outputs": [
    {
     "name": "stdout",
     "output_type": "stream",
     "text": [
      "100000\n",
      "200000\n",
      "300000\n",
      "400000\n",
      "500000\n",
      "600000\n",
      "700000\n",
      "800000\n",
      "900000\n"
     ]
    }
   ],
   "source": [
    "#test_ids are the customer codes for the testing data.\n",
    "test_ids = np.array(pd.read_csv(r'E:\\Santander Recommendation\\test_ver2.csv',usecols=['ncodpers'])['ncodpers'])\n",
    "target_cols_all = np.array(product_cols)\n",
    "final_preds = []\n",
    "#iterate through our model's predictions (pred) and add the 7 most recommended products that the customer does not have.\n",
    "for idx,predicted in enumerate(preds):\n",
    "    ids = test_ids[idx]\n",
    "    top_product = target_cols_all[predicted]\n",
    "    used_products = used_recommendation_products.get(ids,[])\n",
    "    new_top_product = []\n",
    "    for product in top_product:\n",
    "        if product not in used_products:\n",
    "            new_top_product.append(product)\n",
    "        if len(new_top_product) == 7:\n",
    "            break\n",
    "    final_preds.append(' '.join(new_top_product))\n",
    "    if len(final_preds) % 100000 == 0:\n",
    "        print(len(final_preds))"
   ]
  },
  {
   "cell_type": "code",
   "execution_count": 20,
   "metadata": {},
   "outputs": [],
   "source": [
    "submission = pd.DataFrame({'ncodpers':test_ids,'added_products':final_preds})\n",
    "submission.to_csv('submission.csv',index=False)"
   ]
  },
  {
   "cell_type": "code",
   "execution_count": 21,
   "metadata": {},
   "outputs": [
    {
     "data": {
      "text/plain": [
       "(929615, 2)"
      ]
     },
     "execution_count": 21,
     "metadata": {},
     "output_type": "execute_result"
    }
   ],
   "source": [
    "submission.shape"
   ]
  },
  {
   "cell_type": "code",
   "execution_count": 22,
   "metadata": {},
   "outputs": [
    {
     "data": {
      "text/html": [
       "<div>\n",
       "<style scoped>\n",
       "    .dataframe tbody tr th:only-of-type {\n",
       "        vertical-align: middle;\n",
       "    }\n",
       "\n",
       "    .dataframe tbody tr th {\n",
       "        vertical-align: top;\n",
       "    }\n",
       "\n",
       "    .dataframe thead th {\n",
       "        text-align: right;\n",
       "    }\n",
       "</style>\n",
       "<table border=\"1\" class=\"dataframe\">\n",
       "  <thead>\n",
       "    <tr style=\"text-align: right;\">\n",
       "      <th></th>\n",
       "      <th>added_products</th>\n",
       "      <th>ncodpers</th>\n",
       "    </tr>\n",
       "  </thead>\n",
       "  <tbody>\n",
       "    <tr>\n",
       "      <th>0</th>\n",
       "      <td>ind_cno_fin_ult1 ind_recibo_ult1 ind_nomina_ul...</td>\n",
       "      <td>15889</td>\n",
       "    </tr>\n",
       "    <tr>\n",
       "      <th>1</th>\n",
       "      <td>ind_recibo_ult1 ind_cno_fin_ult1 ind_nom_pens_...</td>\n",
       "      <td>1170544</td>\n",
       "    </tr>\n",
       "    <tr>\n",
       "      <th>2</th>\n",
       "      <td>ind_recibo_ult1 ind_cno_fin_ult1 ind_nom_pens_...</td>\n",
       "      <td>1170545</td>\n",
       "    </tr>\n",
       "    <tr>\n",
       "      <th>3</th>\n",
       "      <td>ind_recibo_ult1 ind_cno_fin_ult1 ind_nom_pens_...</td>\n",
       "      <td>1170547</td>\n",
       "    </tr>\n",
       "    <tr>\n",
       "      <th>4</th>\n",
       "      <td>ind_recibo_ult1 ind_cno_fin_ult1 ind_nom_pens_...</td>\n",
       "      <td>1170548</td>\n",
       "    </tr>\n",
       "  </tbody>\n",
       "</table>\n",
       "</div>"
      ],
      "text/plain": [
       "                                      added_products  ncodpers\n",
       "0  ind_cno_fin_ult1 ind_recibo_ult1 ind_nomina_ul...     15889\n",
       "1  ind_recibo_ult1 ind_cno_fin_ult1 ind_nom_pens_...   1170544\n",
       "2  ind_recibo_ult1 ind_cno_fin_ult1 ind_nom_pens_...   1170545\n",
       "3  ind_recibo_ult1 ind_cno_fin_ult1 ind_nom_pens_...   1170547\n",
       "4  ind_recibo_ult1 ind_cno_fin_ult1 ind_nom_pens_...   1170548"
      ]
     },
     "execution_count": 22,
     "metadata": {},
     "output_type": "execute_result"
    }
   ],
   "source": [
    "submission.head()"
   ]
  }
 ],
 "metadata": {
  "kernelspec": {
   "display_name": "Python 3",
   "language": "python",
   "name": "python3"
  },
  "language_info": {
   "codemirror_mode": {
    "name": "ipython",
    "version": 3
   },
   "file_extension": ".py",
   "mimetype": "text/x-python",
   "name": "python",
   "nbconvert_exporter": "python",
   "pygments_lexer": "ipython3",
   "version": "3.6.4"
  }
 },
 "nbformat": 4,
 "nbformat_minor": 2
}
